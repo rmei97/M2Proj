{
 "cells": [
  {
   "cell_type": "code",
   "execution_count": 1,
   "metadata": {},
   "outputs": [],
   "source": [
    "import numpy as np\n",
    "import pandas as pd \n",
    "import matplotlib.pyplot as plt\n",
    "import seaborn as sns\n",
    "%matplotlib inline\n",
    "sns.set_style('ticks')\n",
    "\n",
    "from sklearn import metrics\n",
    "from sklearn.metrics import mean_squared_error\n",
    "from sklearn.linear_model import LinearRegression\n",
    "from sklearn.model_selection import train_test_split\n",
    "from sklearn.preprocessing import PolynomialFeatures\n",
    "from sklearn.preprocessing import StandardScaler\n",
    "from sklearn.preprocessing import MinMaxScaler\n",
    "\n",
    "import statsmodels.api as sm\n",
    "from statsmodels.formula.api import ols\n",
    "from scipy import stats"
   ]
  },
  {
   "cell_type": "code",
   "execution_count": 2,
   "metadata": {
    "scrolled": false
   },
   "outputs": [
    {
     "data": {
      "text/html": [
       "<div>\n",
       "<style scoped>\n",
       "    .dataframe tbody tr th:only-of-type {\n",
       "        vertical-align: middle;\n",
       "    }\n",
       "\n",
       "    .dataframe tbody tr th {\n",
       "        vertical-align: top;\n",
       "    }\n",
       "\n",
       "    .dataframe thead th {\n",
       "        text-align: right;\n",
       "    }\n",
       "</style>\n",
       "<table border=\"1\" class=\"dataframe\">\n",
       "  <thead>\n",
       "    <tr style=\"text-align: right;\">\n",
       "      <th></th>\n",
       "      <th>Name</th>\n",
       "      <th>Genre</th>\n",
       "      <th>ESRB_Rating</th>\n",
       "      <th>Publisher</th>\n",
       "      <th>Critic_Score</th>\n",
       "      <th>Platform_count</th>\n",
       "      <th>Multiplatform</th>\n",
       "      <th>Age</th>\n",
       "      <th>Global_Sales_Adj</th>\n",
       "      <th>Frequent_Publisher</th>\n",
       "    </tr>\n",
       "  </thead>\n",
       "  <tbody>\n",
       "    <tr>\n",
       "      <th>0</th>\n",
       "      <td>The Sims 3</td>\n",
       "      <td>Simulation</td>\n",
       "      <td>T</td>\n",
       "      <td>Electronic Arts</td>\n",
       "      <td>8.5</td>\n",
       "      <td>9</td>\n",
       "      <td>1</td>\n",
       "      <td>10.0</td>\n",
       "      <td>6.70232</td>\n",
       "      <td>2</td>\n",
       "    </tr>\n",
       "    <tr>\n",
       "      <th>1</th>\n",
       "      <td>Microsoft Flight Simulator</td>\n",
       "      <td>Simulation</td>\n",
       "      <td>E</td>\n",
       "      <td>Microsoft</td>\n",
       "      <td>7.0</td>\n",
       "      <td>1</td>\n",
       "      <td>0</td>\n",
       "      <td>23.0</td>\n",
       "      <td>2.89280</td>\n",
       "      <td>0</td>\n",
       "    </tr>\n",
       "    <tr>\n",
       "      <th>2</th>\n",
       "      <td>Half-Life</td>\n",
       "      <td>Shooter</td>\n",
       "      <td>M</td>\n",
       "      <td>Sierra Entertainment</td>\n",
       "      <td>9.5</td>\n",
       "      <td>3</td>\n",
       "      <td>1</td>\n",
       "      <td>21.0</td>\n",
       "      <td>2.45552</td>\n",
       "      <td>1</td>\n",
       "    </tr>\n",
       "    <tr>\n",
       "      <th>3</th>\n",
       "      <td>The Sims 4</td>\n",
       "      <td>Simulation</td>\n",
       "      <td>T</td>\n",
       "      <td>Electronic Arts</td>\n",
       "      <td>7.0</td>\n",
       "      <td>4</td>\n",
       "      <td>1</td>\n",
       "      <td>5.0</td>\n",
       "      <td>3.73510</td>\n",
       "      <td>2</td>\n",
       "    </tr>\n",
       "    <tr>\n",
       "      <th>4</th>\n",
       "      <td>The Elder Scrolls V: Skyrim</td>\n",
       "      <td>Role-Playing</td>\n",
       "      <td>M</td>\n",
       "      <td>Bethesda Softworks</td>\n",
       "      <td>9.2</td>\n",
       "      <td>4</td>\n",
       "      <td>1</td>\n",
       "      <td>8.0</td>\n",
       "      <td>3.40347</td>\n",
       "      <td>1</td>\n",
       "    </tr>\n",
       "  </tbody>\n",
       "</table>\n",
       "</div>"
      ],
      "text/plain": [
       "                          Name         Genre ESRB_Rating  \\\n",
       "0                   The Sims 3    Simulation           T   \n",
       "1   Microsoft Flight Simulator    Simulation           E   \n",
       "2                    Half-Life       Shooter           M   \n",
       "3                   The Sims 4    Simulation           T   \n",
       "4  The Elder Scrolls V: Skyrim  Role-Playing           M   \n",
       "\n",
       "              Publisher  Critic_Score  Platform_count  Multiplatform   Age  \\\n",
       "0       Electronic Arts           8.5               9              1  10.0   \n",
       "1             Microsoft           7.0               1              0  23.0   \n",
       "2  Sierra Entertainment           9.5               3              1  21.0   \n",
       "3       Electronic Arts           7.0               4              1   5.0   \n",
       "4    Bethesda Softworks           9.2               4              1   8.0   \n",
       "\n",
       "   Global_Sales_Adj  Frequent_Publisher  \n",
       "0           6.70232                   2  \n",
       "1           2.89280                   0  \n",
       "2           2.45552                   1  \n",
       "3           3.73510                   2  \n",
       "4           3.40347                   1  "
      ]
     },
     "execution_count": 2,
     "metadata": {},
     "output_type": "execute_result"
    }
   ],
   "source": [
    "data = pd.read_csv('pc_sale_data.csv',index_col = 0)\n",
    "data.drop(columns = ['Platform','Year','Global_Sales'],axis = 1, inplace = True)\n",
    "data.head()"
   ]
  },
  {
   "cell_type": "code",
   "execution_count": 3,
   "metadata": {
    "scrolled": true
   },
   "outputs": [
    {
     "data": {
      "text/plain": [
       "(303, 10)"
      ]
     },
     "execution_count": 3,
     "metadata": {},
     "output_type": "execute_result"
    }
   ],
   "source": [
    "data.shape"
   ]
  },
  {
   "cell_type": "code",
   "execution_count": 4,
   "metadata": {
    "scrolled": false
   },
   "outputs": [
    {
     "data": {
      "text/html": [
       "<div>\n",
       "<style scoped>\n",
       "    .dataframe tbody tr th:only-of-type {\n",
       "        vertical-align: middle;\n",
       "    }\n",
       "\n",
       "    .dataframe tbody tr th {\n",
       "        vertical-align: top;\n",
       "    }\n",
       "\n",
       "    .dataframe thead th {\n",
       "        text-align: right;\n",
       "    }\n",
       "</style>\n",
       "<table border=\"1\" class=\"dataframe\">\n",
       "  <thead>\n",
       "    <tr style=\"text-align: right;\">\n",
       "      <th></th>\n",
       "      <th>Critic_Score</th>\n",
       "      <th>Platform_count</th>\n",
       "      <th>Multiplatform</th>\n",
       "      <th>Age</th>\n",
       "      <th>Global_Sales_Adj</th>\n",
       "      <th>Frequent_Publisher</th>\n",
       "    </tr>\n",
       "  </thead>\n",
       "  <tbody>\n",
       "    <tr>\n",
       "      <th>count</th>\n",
       "      <td>303.000000</td>\n",
       "      <td>303.000000</td>\n",
       "      <td>303.000000</td>\n",
       "      <td>303.000000</td>\n",
       "      <td>303.000000</td>\n",
       "      <td>303.000000</td>\n",
       "    </tr>\n",
       "    <tr>\n",
       "      <th>mean</th>\n",
       "      <td>7.744224</td>\n",
       "      <td>3.089109</td>\n",
       "      <td>0.646865</td>\n",
       "      <td>11.042904</td>\n",
       "      <td>0.293061</td>\n",
       "      <td>1.128713</td>\n",
       "    </tr>\n",
       "    <tr>\n",
       "      <th>std</th>\n",
       "      <td>1.267745</td>\n",
       "      <td>2.130350</td>\n",
       "      <td>0.478735</td>\n",
       "      <td>4.346134</td>\n",
       "      <td>0.642723</td>\n",
       "      <td>0.876440</td>\n",
       "    </tr>\n",
       "    <tr>\n",
       "      <th>min</th>\n",
       "      <td>1.500000</td>\n",
       "      <td>1.000000</td>\n",
       "      <td>0.000000</td>\n",
       "      <td>1.000000</td>\n",
       "      <td>0.005960</td>\n",
       "      <td>0.000000</td>\n",
       "    </tr>\n",
       "    <tr>\n",
       "      <th>25%</th>\n",
       "      <td>7.000000</td>\n",
       "      <td>1.000000</td>\n",
       "      <td>0.000000</td>\n",
       "      <td>8.000000</td>\n",
       "      <td>0.019370</td>\n",
       "      <td>0.000000</td>\n",
       "    </tr>\n",
       "    <tr>\n",
       "      <th>50%</th>\n",
       "      <td>8.000000</td>\n",
       "      <td>3.000000</td>\n",
       "      <td>1.000000</td>\n",
       "      <td>10.000000</td>\n",
       "      <td>0.050520</td>\n",
       "      <td>1.000000</td>\n",
       "    </tr>\n",
       "    <tr>\n",
       "      <th>75%</th>\n",
       "      <td>8.700000</td>\n",
       "      <td>4.000000</td>\n",
       "      <td>1.000000</td>\n",
       "      <td>13.000000</td>\n",
       "      <td>0.269680</td>\n",
       "      <td>2.000000</td>\n",
       "    </tr>\n",
       "    <tr>\n",
       "      <th>max</th>\n",
       "      <td>9.700000</td>\n",
       "      <td>10.000000</td>\n",
       "      <td>1.000000</td>\n",
       "      <td>26.000000</td>\n",
       "      <td>6.702320</td>\n",
       "      <td>2.000000</td>\n",
       "    </tr>\n",
       "  </tbody>\n",
       "</table>\n",
       "</div>"
      ],
      "text/plain": [
       "       Critic_Score  Platform_count  Multiplatform         Age  \\\n",
       "count    303.000000      303.000000     303.000000  303.000000   \n",
       "mean       7.744224        3.089109       0.646865   11.042904   \n",
       "std        1.267745        2.130350       0.478735    4.346134   \n",
       "min        1.500000        1.000000       0.000000    1.000000   \n",
       "25%        7.000000        1.000000       0.000000    8.000000   \n",
       "50%        8.000000        3.000000       1.000000   10.000000   \n",
       "75%        8.700000        4.000000       1.000000   13.000000   \n",
       "max        9.700000       10.000000       1.000000   26.000000   \n",
       "\n",
       "       Global_Sales_Adj  Frequent_Publisher  \n",
       "count        303.000000          303.000000  \n",
       "mean           0.293061            1.128713  \n",
       "std            0.642723            0.876440  \n",
       "min            0.005960            0.000000  \n",
       "25%            0.019370            0.000000  \n",
       "50%            0.050520            1.000000  \n",
       "75%            0.269680            2.000000  \n",
       "max            6.702320            2.000000  "
      ]
     },
     "execution_count": 4,
     "metadata": {},
     "output_type": "execute_result"
    }
   ],
   "source": [
    "data.describe()"
   ]
  },
  {
   "cell_type": "code",
   "execution_count": 5,
   "metadata": {
    "scrolled": true
   },
   "outputs": [
    {
     "name": "stderr",
     "output_type": "stream",
     "text": [
      "/opt/anaconda3/lib/python3.7/site-packages/pandas/core/indexing.py:670: SettingWithCopyWarning: \n",
      "A value is trying to be set on a copy of a slice from a DataFrame\n",
      "\n",
      "See the caveats in the documentation: https://pandas.pydata.org/pandas-docs/stable/user_guide/indexing.html#returning-a-view-versus-a-copy\n",
      "  self._setitem_with_indexer(indexer, value)\n"
     ]
    }
   ],
   "source": [
    "#keeping values within 5 Standard Deviations since only 2 data points > 5 sd away\n",
    "data['Global_Sales_Adj'].iloc[0] = 3.5\n",
    "data['Global_Sales_Adj'].iloc[3] = 3.5"
   ]
  },
  {
   "cell_type": "code",
   "execution_count": 6,
   "metadata": {},
   "outputs": [
    {
     "data": {
      "text/plain": [
       "Text(0.5, 1.0, 'Common Game Publishers')"
      ]
     },
     "execution_count": 6,
     "metadata": {},
     "output_type": "execute_result"
    },
    {
     "data": {
      "image/png": "[encoded data removed]",
      "text/plain": [
       "<Figure size 432x288 with 1 Axes>"
      ]
     },
     "metadata": {},
     "output_type": "display_data"
    }
   ],
   "source": [
    "publishers_counts = data.groupby('Publisher')['Publisher'].count().sort_values(ascending = False)\n",
    "y = list(publishers_counts.index[:10]) #list of publishers\n",
    "x = list(publishers_counts.values[:10])\n",
    "\n",
    "sns.barplot(x,y)\n",
    "\n",
    "#axis labels\n",
    "plt.xlabel('Number of Games')\n",
    "plt.ylabel('Publisher')\n",
    "\n",
    "#fonts\n",
    "# plt.rc('font', size = 14)\n",
    "plt.rc('axes', titlesize=18, )     # fontsize of the axes title\n",
    "plt.rc('axes', labelsize= 18)  # fontsize of the x and y labels\n",
    "plt.rc('xtick', labelsize = 14)    # fontsize of the tick labels\n",
    "plt.rc('ytick', labelsize = 14)\n",
    "\n",
    "plt.title('Common Game Publishers')"
   ]
  },
  {
   "cell_type": "code",
   "execution_count": 7,
   "metadata": {},
   "outputs": [],
   "source": [
    "#making categorical as type:category\n",
    "data['Multiplatform'] = data['Multiplatform'].astype('category')\n",
    "data['ESRB_Rating'] = data['ESRB_Rating'].astype('category')\n",
    "data['Frequent_Publisher'] = data['Frequent_Publisher'].astype('category')\n",
    "data['Age'] = data['Age'].astype('int64')"
   ]
  },
  {
   "cell_type": "code",
   "execution_count": 8,
   "metadata": {},
   "outputs": [
    {
     "data": {
      "text/plain": [
       "('Genres: ', 15, 'Ratings: ', 6)"
      ]
     },
     "execution_count": 8,
     "metadata": {},
     "output_type": "execute_result"
    }
   ],
   "source": [
    "#catagorical for making into dummies\n",
    "unique_genres = len(data.Genre.unique())\n",
    "unique_ratings = len(data.ESRB_Rating.unique())\n",
    "'Genres: ',unique_genres,'Ratings: ',unique_ratings"
   ]
  },
  {
   "cell_type": "code",
   "execution_count": 9,
   "metadata": {
    "scrolled": false
   },
   "outputs": [
    {
     "data": {
      "text/plain": [
       "Text(0, 0.5, 'Count')"
      ]
     },
     "execution_count": 9,
     "metadata": {},
     "output_type": "execute_result"
    },
    {
     "data": {
      "image/png": "[encoded data removed]",
      "text/plain": [
       "<Figure size 432x288 with 1 Axes>"
      ]
     },
     "metadata": {},
     "output_type": "display_data"
    }
   ],
   "source": [
    "data.hist('Critic_Score') #subtracting by mean will normalize it\n",
    "plt.title('Histogram on Critic Scores')\n",
    "plt.xlabel('Score (Out of 10)')\n",
    "plt.ylabel('Count')"
   ]
  },
  {
   "cell_type": "code",
   "execution_count": 10,
   "metadata": {},
   "outputs": [
    {
     "data": {
      "text/plain": [
       "array([[<matplotlib.axes._subplots.AxesSubplot object at 0x1a25a5e5d0>]],\n",
       "      dtype=object)"
      ]
     },
     "execution_count": 10,
     "metadata": {},
     "output_type": "execute_result"
    },
    {
     "data": {
      "image/png": "[encoded data removed]",
      "text/plain": [
       "<Figure size 432x288 with 1 Axes>"
      ]
     },
     "metadata": {},
     "output_type": "display_data"
    }
   ],
   "source": [
    "data.hist('Global_Sales_Adj') #taking log can potentially normalize this since looks exponential"
   ]
  },
  {
   "cell_type": "code",
   "execution_count": 11,
   "metadata": {},
   "outputs": [
    {
     "data": {
      "image/png": "[encoded data removed]",
      "text/plain": [
       "<Figure size 1080x1080 with 42 Axes>"
      ]
     },
     "metadata": {},
     "output_type": "display_data"
    }
   ],
   "source": [
    "cols = data.columns[2:]\n",
    "sns.pairplot(data[cols], height = 2.5)\n",
    "plt.show(); #look for y of global sales"
   ]
  },
  {
   "cell_type": "markdown",
   "metadata": {},
   "source": [
    "# Transformations"
   ]
  },
  {
   "cell_type": "code",
   "execution_count": 12,
   "metadata": {},
   "outputs": [],
   "source": [
    "critic_mean = data['Critic_Score'].mean()\n",
    "critic_std = data['Critic_Score'].std()\n",
    "data['Normalized_Critic_Score'] = data['Critic_Score'].apply(lambda x: (x-critic_mean)/critic_std)\n",
    "data['exp_score'] = data['Critic_Score'].apply(lambda x: x**2)\n",
    "\n",
    "sale_mean = data['Global_Sales_Adj'].mean() #0.2817161386\n",
    "data['log_sales'] = data['Global_Sales_Adj'].apply(lambda x: np.log(x)) #final decision after trying out other\n",
    "data['sqrt_sales'] = data['Global_Sales_Adj'].apply(lambda x: np.sqrt(x))\n",
    "data['log_plus_sales'] = data['Global_Sales_Adj'].apply(lambda x: np.log(x+(sale_mean))) \n",
    "data['log_exp_sales'] = data['Global_Sales_Adj'].apply(lambda x: np.log((x+sale_mean))) "
   ]
  },
  {
   "cell_type": "code",
   "execution_count": 13,
   "metadata": {
    "scrolled": true
   },
   "outputs": [
    {
     "data": {
      "text/plain": [
       "<matplotlib.axes._subplots.AxesSubplot at 0x1a276e6f50>"
      ]
     },
     "execution_count": 13,
     "metadata": {},
     "output_type": "execute_result"
    },
    {
     "data": {
      "image/png": "[encoded data removed]",
      "text/plain": [
       "<Figure size 432x288 with 1 Axes>"
      ]
     },
     "metadata": {},
     "output_type": "display_data"
    }
   ],
   "source": [
    "sns.distplot(data['exp_score'],kde=True)"
   ]
  },
  {
   "cell_type": "code",
   "execution_count": 14,
   "metadata": {
    "scrolled": true
   },
   "outputs": [
    {
     "data": {
      "text/plain": [
       "Text(0.5, 1.0, 'Histogram of Log Sales')"
      ]
     },
     "execution_count": 14,
     "metadata": {},
     "output_type": "execute_result"
    },
    {
     "data": {
      "image/png": "[encoded data removed]",
      "text/plain": [
       "<Figure size 432x288 with 1 Axes>"
      ]
     },
     "metadata": {},
     "output_type": "display_data"
    }
   ],
   "source": [
    "sns.distplot(data['log_sales'],kde=True) #sales looking more linear\n",
    "plt.title('Histogram of Log Sales')"
   ]
  },
  {
   "cell_type": "code",
   "execution_count": 15,
   "metadata": {
    "scrolled": true
   },
   "outputs": [
    {
     "data": {
      "text/plain": [
       "<matplotlib.axes._subplots.AxesSubplot at 0x1a27be9f90>"
      ]
     },
     "execution_count": 15,
     "metadata": {},
     "output_type": "execute_result"
    },
    {
     "data": {
      "image/png": "[encoded data removed]",
      "text/plain": [
       "<Figure size 432x288 with 1 Axes>"
      ]
     },
     "metadata": {},
     "output_type": "display_data"
    }
   ],
   "source": [
    "sns.distplot(data['log_exp_sales'],kde=True) #log looks better"
   ]
  },
  {
   "cell_type": "code",
   "execution_count": 16,
   "metadata": {
    "scrolled": true
   },
   "outputs": [
    {
     "name": "stdout",
     "output_type": "stream",
     "text": [
      "QQ-Plot\n"
     ]
    },
    {
     "data": {
      "text/plain": [
       "Text(0.5, 1.0, 'QQ-Plot of Log_Sales')"
      ]
     },
     "execution_count": 16,
     "metadata": {},
     "output_type": "execute_result"
    },
    {
     "data": {
      "image/png": "[encoded data removed]",
      "text/plain": [
       "<Figure size 432x288 with 1 Axes>"
      ]
     },
     "metadata": {},
     "output_type": "display_data"
    }
   ],
   "source": [
    "stats.probplot(data['log_sales'],plot = plt)\n",
    "print('QQ-Plot')\n",
    "plt.title('QQ-Plot of Log_Sales')"
   ]
  },
  {
   "cell_type": "markdown",
   "metadata": {},
   "source": [
    "Tried out plots for exp and log_exp to compare with log, but log seemed best. QQ Plot more along the lines"
   ]
  },
  {
   "cell_type": "markdown",
   "metadata": {},
   "source": [
    "# Statistical Tests:\n"
   ]
  },
  {
   "cell_type": "markdown",
   "metadata": {},
   "source": [
    "<b>Anova on Genre</b>"
   ]
  },
  {
   "cell_type": "code",
   "execution_count": 17,
   "metadata": {
    "scrolled": true
   },
   "outputs": [
    {
     "data": {
      "text/html": [
       "<div>\n",
       "<style scoped>\n",
       "    .dataframe tbody tr th:only-of-type {\n",
       "        vertical-align: middle;\n",
       "    }\n",
       "\n",
       "    .dataframe tbody tr th {\n",
       "        vertical-align: top;\n",
       "    }\n",
       "\n",
       "    .dataframe thead th {\n",
       "        text-align: right;\n",
       "    }\n",
       "</style>\n",
       "<table border=\"1\" class=\"dataframe\">\n",
       "  <thead>\n",
       "    <tr style=\"text-align: right;\">\n",
       "      <th></th>\n",
       "      <th>df</th>\n",
       "      <th>sum_sq</th>\n",
       "      <th>mean_sq</th>\n",
       "      <th>F</th>\n",
       "      <th>PR(&gt;F)</th>\n",
       "    </tr>\n",
       "  </thead>\n",
       "  <tbody>\n",
       "    <tr>\n",
       "      <th>Genre</th>\n",
       "      <td>14.0</td>\n",
       "      <td>75.872115</td>\n",
       "      <td>5.419437</td>\n",
       "      <td>2.097641</td>\n",
       "      <td>0.012055</td>\n",
       "    </tr>\n",
       "    <tr>\n",
       "      <th>Residual</th>\n",
       "      <td>288.0</td>\n",
       "      <td>744.072924</td>\n",
       "      <td>2.583587</td>\n",
       "      <td>NaN</td>\n",
       "      <td>NaN</td>\n",
       "    </tr>\n",
       "  </tbody>\n",
       "</table>\n",
       "</div>"
      ],
      "text/plain": [
       "             df      sum_sq   mean_sq         F    PR(>F)\n",
       "Genre      14.0   75.872115  5.419437  2.097641  0.012055\n",
       "Residual  288.0  744.072924  2.583587       NaN       NaN"
      ]
     },
     "execution_count": 17,
     "metadata": {},
     "output_type": "execute_result"
    }
   ],
   "source": [
    "#conducting test using log of sales minimizes error since it is more normal\n",
    "anova_genre = ols('log_sales~Genre',data=data).fit()\n",
    "anova_table = sm.stats.anova_lm(anova_genre)\n",
    "anova_table"
   ]
  },
  {
   "cell_type": "markdown",
   "metadata": {},
   "source": [
    "* From this test, we want to test if whether or not the mean of all the different genres' distributions are all equal or atleast one of them are not equal\n",
    "* From obtaining an F-statistic of 2.097 and a p-value of 0.012055, we reject that each mean are equal to one another since the p value is less than 0.05.\n",
    "* This means the genre has a impact on sales"
   ]
  },
  {
   "cell_type": "markdown",
   "metadata": {},
   "source": [
    "<b>ANOVA on publisher frequency"
   ]
  },
  {
   "cell_type": "code",
   "execution_count": 18,
   "metadata": {},
   "outputs": [
    {
     "data": {
      "text/html": [
       "<div>\n",
       "<style scoped>\n",
       "    .dataframe tbody tr th:only-of-type {\n",
       "        vertical-align: middle;\n",
       "    }\n",
       "\n",
       "    .dataframe tbody tr th {\n",
       "        vertical-align: top;\n",
       "    }\n",
       "\n",
       "    .dataframe thead th {\n",
       "        text-align: right;\n",
       "    }\n",
       "</style>\n",
       "<table border=\"1\" class=\"dataframe\">\n",
       "  <thead>\n",
       "    <tr style=\"text-align: right;\">\n",
       "      <th></th>\n",
       "      <th>df</th>\n",
       "      <th>sum_sq</th>\n",
       "      <th>mean_sq</th>\n",
       "      <th>F</th>\n",
       "      <th>PR(&gt;F)</th>\n",
       "    </tr>\n",
       "  </thead>\n",
       "  <tbody>\n",
       "    <tr>\n",
       "      <th>Frequent_Publisher</th>\n",
       "      <td>2.0</td>\n",
       "      <td>19.642035</td>\n",
       "      <td>9.821017</td>\n",
       "      <td>3.681487</td>\n",
       "      <td>0.02633</td>\n",
       "    </tr>\n",
       "    <tr>\n",
       "      <th>Residual</th>\n",
       "      <td>300.0</td>\n",
       "      <td>800.303004</td>\n",
       "      <td>2.667677</td>\n",
       "      <td>NaN</td>\n",
       "      <td>NaN</td>\n",
       "    </tr>\n",
       "  </tbody>\n",
       "</table>\n",
       "</div>"
      ],
      "text/plain": [
       "                       df      sum_sq   mean_sq         F   PR(>F)\n",
       "Frequent_Publisher    2.0   19.642035  9.821017  3.681487  0.02633\n",
       "Residual            300.0  800.303004  2.667677       NaN      NaN"
      ]
     },
     "execution_count": 18,
     "metadata": {},
     "output_type": "execute_result"
    }
   ],
   "source": [
    "# Anova on Frequency of Publisher\n",
    "anova_publisher = ols('log_sales~Frequent_Publisher',data=data).fit()\n",
    "anova_table = sm.stats.anova_lm(anova_publisher)\n",
    "anova_table"
   ]
  },
  {
   "cell_type": "markdown",
   "metadata": {},
   "source": [
    "* From this test, we are testing whether or not being a frequent publisher has an effect on the log sales\n",
    "* We are testing to see whether or not the means are equal depending on the 3 different frequencys of very frequent, frequent, and not frequent\n",
    "* When we obtain the F statistic of 3.681487 and p value of 0.02633, we reject the fact that the means of the 3 distributions are equal and say that atleast one of the means are different from the others and that the frequency of publishing does have an impact on sales"
   ]
  },
  {
   "cell_type": "markdown",
   "metadata": {},
   "source": [
    "<b> ANOVA test on multiplatforms"
   ]
  },
  {
   "cell_type": "code",
   "execution_count": 19,
   "metadata": {},
   "outputs": [
    {
     "data": {
      "text/html": [
       "<div>\n",
       "<style scoped>\n",
       "    .dataframe tbody tr th:only-of-type {\n",
       "        vertical-align: middle;\n",
       "    }\n",
       "\n",
       "    .dataframe tbody tr th {\n",
       "        vertical-align: top;\n",
       "    }\n",
       "\n",
       "    .dataframe thead th {\n",
       "        text-align: right;\n",
       "    }\n",
       "</style>\n",
       "<table border=\"1\" class=\"dataframe\">\n",
       "  <thead>\n",
       "    <tr style=\"text-align: right;\">\n",
       "      <th></th>\n",
       "      <th>df</th>\n",
       "      <th>sum_sq</th>\n",
       "      <th>mean_sq</th>\n",
       "      <th>F</th>\n",
       "      <th>PR(&gt;F)</th>\n",
       "    </tr>\n",
       "  </thead>\n",
       "  <tbody>\n",
       "    <tr>\n",
       "      <th>Multiplatform</th>\n",
       "      <td>1.0</td>\n",
       "      <td>26.153379</td>\n",
       "      <td>26.153379</td>\n",
       "      <td>9.91717</td>\n",
       "      <td>0.001802</td>\n",
       "    </tr>\n",
       "    <tr>\n",
       "      <th>Residual</th>\n",
       "      <td>301.0</td>\n",
       "      <td>793.791660</td>\n",
       "      <td>2.637182</td>\n",
       "      <td>NaN</td>\n",
       "      <td>NaN</td>\n",
       "    </tr>\n",
       "  </tbody>\n",
       "</table>\n",
       "</div>"
      ],
      "text/plain": [
       "                  df      sum_sq    mean_sq        F    PR(>F)\n",
       "Multiplatform    1.0   26.153379  26.153379  9.91717  0.001802\n",
       "Residual       301.0  793.791660   2.637182      NaN       NaN"
      ]
     },
     "execution_count": 19,
     "metadata": {},
     "output_type": "execute_result"
    }
   ],
   "source": [
    "# Anova on multiplatform or not\n",
    "anova_multiplatform = ols('log_sales~Multiplatform',data=data).fit()\n",
    "anova_table = sm.stats.anova_lm(anova_multiplatform)\n",
    "anova_table"
   ]
  },
  {
   "cell_type": "markdown",
   "metadata": {},
   "source": [
    "* Our F-value is large and our p value is small\n",
    "* We test an conclude a difference of the means showing that the multiplatforms has impact on the sales."
   ]
  },
  {
   "cell_type": "markdown",
   "metadata": {},
   "source": [
    "<b>ANOVA on ratings"
   ]
  },
  {
   "cell_type": "code",
   "execution_count": 20,
   "metadata": {
    "scrolled": true
   },
   "outputs": [
    {
     "data": {
      "text/html": [
       "<div>\n",
       "<style scoped>\n",
       "    .dataframe tbody tr th:only-of-type {\n",
       "        vertical-align: middle;\n",
       "    }\n",
       "\n",
       "    .dataframe tbody tr th {\n",
       "        vertical-align: top;\n",
       "    }\n",
       "\n",
       "    .dataframe thead th {\n",
       "        text-align: right;\n",
       "    }\n",
       "</style>\n",
       "<table border=\"1\" class=\"dataframe\">\n",
       "  <thead>\n",
       "    <tr style=\"text-align: right;\">\n",
       "      <th></th>\n",
       "      <th>df</th>\n",
       "      <th>sum_sq</th>\n",
       "      <th>mean_sq</th>\n",
       "      <th>F</th>\n",
       "      <th>PR(&gt;F)</th>\n",
       "    </tr>\n",
       "  </thead>\n",
       "  <tbody>\n",
       "    <tr>\n",
       "      <th>ESRB_Rating</th>\n",
       "      <td>4.0</td>\n",
       "      <td>25.581261</td>\n",
       "      <td>6.395315</td>\n",
       "      <td>2.427105</td>\n",
       "      <td>0.04811</td>\n",
       "    </tr>\n",
       "    <tr>\n",
       "      <th>Residual</th>\n",
       "      <td>287.0</td>\n",
       "      <td>756.232473</td>\n",
       "      <td>2.634956</td>\n",
       "      <td>NaN</td>\n",
       "      <td>NaN</td>\n",
       "    </tr>\n",
       "  </tbody>\n",
       "</table>\n",
       "</div>"
      ],
      "text/plain": [
       "                df      sum_sq   mean_sq         F   PR(>F)\n",
       "ESRB_Rating    4.0   25.581261  6.395315  2.427105  0.04811\n",
       "Residual     287.0  756.232473  2.634956       NaN      NaN"
      ]
     },
     "execution_count": 20,
     "metadata": {},
     "output_type": "execute_result"
    }
   ],
   "source": [
    "#p-value close to 0.05 so there may be no difference in ratings\n",
    "anova_rating = ols('log_sales~ESRB_Rating',data=data).fit()\n",
    "anova_table = sm.stats.anova_lm(anova_rating)\n",
    "anova_table"
   ]
  },
  {
   "cell_type": "markdown",
   "metadata": {},
   "source": [
    "<b>Simple OLS</b>\n",
    "\n",
    "Seeing the p value as small, I do a simple OLS to see how well the variable would do on it's own and lot's of the\n",
    "ratings variables have large p-values pushing me to not use ratings"
   ]
  },
  {
   "cell_type": "code",
   "execution_count": 21,
   "metadata": {
    "scrolled": true
   },
   "outputs": [],
   "source": [
    "f = 'log_sales~Genre+ESRB_Rating+Multiplatform+Frequent_Publisher+exp_score'\n",
    "model = ols(formula = f, data = data).fit()\n",
    "# model.summary()"
   ]
  },
  {
   "cell_type": "markdown",
   "metadata": {},
   "source": [
    "---"
   ]
  },
  {
   "cell_type": "markdown",
   "metadata": {},
   "source": [
    "<b>How will correlation effect our model?</b>\n",
    "\n",
    "Having variables highly correlated with each other will make our model's variance increase. Since our variables\n",
    " don't seem to be highly correlated with one another, we can safely put them all into our model."
   ]
  },
  {
   "cell_type": "code",
   "execution_count": 22,
   "metadata": {
    "scrolled": true
   },
   "outputs": [
    {
     "data": {
      "text/html": [
       "<div>\n",
       "<style scoped>\n",
       "    .dataframe tbody tr th:only-of-type {\n",
       "        vertical-align: middle;\n",
       "    }\n",
       "\n",
       "    .dataframe tbody tr th {\n",
       "        vertical-align: top;\n",
       "    }\n",
       "\n",
       "    .dataframe thead th {\n",
       "        text-align: right;\n",
       "    }\n",
       "</style>\n",
       "<table border=\"1\" class=\"dataframe\">\n",
       "  <thead>\n",
       "    <tr style=\"text-align: right;\">\n",
       "      <th></th>\n",
       "      <th>Critic_Score</th>\n",
       "      <th>Platform_count</th>\n",
       "      <th>Age</th>\n",
       "      <th>Global_Sales_Adj</th>\n",
       "      <th>Normalized_Critic_Score</th>\n",
       "      <th>exp_score</th>\n",
       "      <th>log_sales</th>\n",
       "      <th>sqrt_sales</th>\n",
       "      <th>log_plus_sales</th>\n",
       "      <th>log_exp_sales</th>\n",
       "    </tr>\n",
       "  </thead>\n",
       "  <tbody>\n",
       "    <tr>\n",
       "      <th>Critic_Score</th>\n",
       "      <td>1.000000</td>\n",
       "      <td>0.073571</td>\n",
       "      <td>0.227245</td>\n",
       "      <td>0.176202</td>\n",
       "      <td>1.000000</td>\n",
       "      <td>0.989696</td>\n",
       "      <td>0.263199</td>\n",
       "      <td>0.235333</td>\n",
       "      <td>0.239748</td>\n",
       "      <td>0.239748</td>\n",
       "    </tr>\n",
       "    <tr>\n",
       "      <th>Platform_count</th>\n",
       "      <td>0.073571</td>\n",
       "      <td>1.000000</td>\n",
       "      <td>-0.103413</td>\n",
       "      <td>0.052493</td>\n",
       "      <td>0.073571</td>\n",
       "      <td>0.065045</td>\n",
       "      <td>0.123641</td>\n",
       "      <td>0.082204</td>\n",
       "      <td>0.077130</td>\n",
       "      <td>0.077130</td>\n",
       "    </tr>\n",
       "    <tr>\n",
       "      <th>Age</th>\n",
       "      <td>0.227245</td>\n",
       "      <td>-0.103413</td>\n",
       "      <td>1.000000</td>\n",
       "      <td>0.045134</td>\n",
       "      <td>0.227245</td>\n",
       "      <td>0.235005</td>\n",
       "      <td>-0.197601</td>\n",
       "      <td>-0.051475</td>\n",
       "      <td>-0.040503</td>\n",
       "      <td>-0.040503</td>\n",
       "    </tr>\n",
       "    <tr>\n",
       "      <th>Global_Sales_Adj</th>\n",
       "      <td>0.176202</td>\n",
       "      <td>0.052493</td>\n",
       "      <td>0.045134</td>\n",
       "      <td>1.000000</td>\n",
       "      <td>0.176202</td>\n",
       "      <td>0.183886</td>\n",
       "      <td>0.755432</td>\n",
       "      <td>0.942292</td>\n",
       "      <td>0.927963</td>\n",
       "      <td>0.927963</td>\n",
       "    </tr>\n",
       "    <tr>\n",
       "      <th>Normalized_Critic_Score</th>\n",
       "      <td>1.000000</td>\n",
       "      <td>0.073571</td>\n",
       "      <td>0.227245</td>\n",
       "      <td>0.176202</td>\n",
       "      <td>1.000000</td>\n",
       "      <td>0.989696</td>\n",
       "      <td>0.263199</td>\n",
       "      <td>0.235333</td>\n",
       "      <td>0.239748</td>\n",
       "      <td>0.239748</td>\n",
       "    </tr>\n",
       "    <tr>\n",
       "      <th>exp_score</th>\n",
       "      <td>0.989696</td>\n",
       "      <td>0.065045</td>\n",
       "      <td>0.235005</td>\n",
       "      <td>0.183886</td>\n",
       "      <td>0.989696</td>\n",
       "      <td>1.000000</td>\n",
       "      <td>0.268517</td>\n",
       "      <td>0.243843</td>\n",
       "      <td>0.249232</td>\n",
       "      <td>0.249232</td>\n",
       "    </tr>\n",
       "    <tr>\n",
       "      <th>log_sales</th>\n",
       "      <td>0.263199</td>\n",
       "      <td>0.123641</td>\n",
       "      <td>-0.197601</td>\n",
       "      <td>0.755432</td>\n",
       "      <td>0.263199</td>\n",
       "      <td>0.268517</td>\n",
       "      <td>1.000000</td>\n",
       "      <td>0.921614</td>\n",
       "      <td>0.917536</td>\n",
       "      <td>0.917536</td>\n",
       "    </tr>\n",
       "    <tr>\n",
       "      <th>sqrt_sales</th>\n",
       "      <td>0.235333</td>\n",
       "      <td>0.082204</td>\n",
       "      <td>-0.051475</td>\n",
       "      <td>0.942292</td>\n",
       "      <td>0.235333</td>\n",
       "      <td>0.243843</td>\n",
       "      <td>0.921614</td>\n",
       "      <td>1.000000</td>\n",
       "      <td>0.997037</td>\n",
       "      <td>0.997037</td>\n",
       "    </tr>\n",
       "    <tr>\n",
       "      <th>log_plus_sales</th>\n",
       "      <td>0.239748</td>\n",
       "      <td>0.077130</td>\n",
       "      <td>-0.040503</td>\n",
       "      <td>0.927963</td>\n",
       "      <td>0.239748</td>\n",
       "      <td>0.249232</td>\n",
       "      <td>0.917536</td>\n",
       "      <td>0.997037</td>\n",
       "      <td>1.000000</td>\n",
       "      <td>1.000000</td>\n",
       "    </tr>\n",
       "    <tr>\n",
       "      <th>log_exp_sales</th>\n",
       "      <td>0.239748</td>\n",
       "      <td>0.077130</td>\n",
       "      <td>-0.040503</td>\n",
       "      <td>0.927963</td>\n",
       "      <td>0.239748</td>\n",
       "      <td>0.249232</td>\n",
       "      <td>0.917536</td>\n",
       "      <td>0.997037</td>\n",
       "      <td>1.000000</td>\n",
       "      <td>1.000000</td>\n",
       "    </tr>\n",
       "  </tbody>\n",
       "</table>\n",
       "</div>"
      ],
      "text/plain": [
       "                         Critic_Score  Platform_count       Age  \\\n",
       "Critic_Score                 1.000000        0.073571  0.227245   \n",
       "Platform_count               0.073571        1.000000 -0.103413   \n",
       "Age                          0.227245       -0.103413  1.000000   \n",
       "Global_Sales_Adj             0.176202        0.052493  0.045134   \n",
       "Normalized_Critic_Score      1.000000        0.073571  0.227245   \n",
       "exp_score                    0.989696        0.065045  0.235005   \n",
       "log_sales                    0.263199        0.123641 -0.197601   \n",
       "sqrt_sales                   0.235333        0.082204 -0.051475   \n",
       "log_plus_sales               0.239748        0.077130 -0.040503   \n",
       "log_exp_sales                0.239748        0.077130 -0.040503   \n",
       "\n",
       "                         Global_Sales_Adj  Normalized_Critic_Score  exp_score  \\\n",
       "Critic_Score                     0.176202                 1.000000   0.989696   \n",
       "Platform_count                   0.052493                 0.073571   0.065045   \n",
       "Age                              0.045134                 0.227245   0.235005   \n",
       "Global_Sales_Adj                 1.000000                 0.176202   0.183886   \n",
       "Normalized_Critic_Score          0.176202                 1.000000   0.989696   \n",
       "exp_score                        0.183886                 0.989696   1.000000   \n",
       "log_sales                        0.755432                 0.263199   0.268517   \n",
       "sqrt_sales                       0.942292                 0.235333   0.243843   \n",
       "log_plus_sales                   0.927963                 0.239748   0.249232   \n",
       "log_exp_sales                    0.927963                 0.239748   0.249232   \n",
       "\n",
       "                         log_sales  sqrt_sales  log_plus_sales  log_exp_sales  \n",
       "Critic_Score              0.263199    0.235333        0.239748       0.239748  \n",
       "Platform_count            0.123641    0.082204        0.077130       0.077130  \n",
       "Age                      -0.197601   -0.051475       -0.040503      -0.040503  \n",
       "Global_Sales_Adj          0.755432    0.942292        0.927963       0.927963  \n",
       "Normalized_Critic_Score   0.263199    0.235333        0.239748       0.239748  \n",
       "exp_score                 0.268517    0.243843        0.249232       0.249232  \n",
       "log_sales                 1.000000    0.921614        0.917536       0.917536  \n",
       "sqrt_sales                0.921614    1.000000        0.997037       0.997037  \n",
       "log_plus_sales            0.917536    0.997037        1.000000       1.000000  \n",
       "log_exp_sales             0.917536    0.997037        1.000000       1.000000  "
      ]
     },
     "execution_count": 22,
     "metadata": {},
     "output_type": "execute_result"
    }
   ],
   "source": [
    "corr = data.corr()\n",
    "corr"
   ]
  },
  {
   "cell_type": "code",
   "execution_count": 23,
   "metadata": {
    "scrolled": false
   },
   "outputs": [
    {
     "data": {
      "text/plain": [
       "Text(0.5, 1, 'Correlation Matrix')"
      ]
     },
     "execution_count": 23,
     "metadata": {},
     "output_type": "execute_result"
    },
    {
     "data": {
      "image/png": "[encoded data removed]",
      "text/plain": [
       "<Figure size 720x576 with 2 Axes>"
      ]
     },
     "metadata": {},
     "output_type": "display_data"
    }
   ],
   "source": [
    "sns.set(style=\"white\")\n",
    "\n",
    "# Compute the correlation matrix\n",
    "corr = data.corr()\n",
    "\n",
    "# Generate a mask for the upper triangle\n",
    "mask = np.zeros_like(corr, dtype=np.bool)\n",
    "mask[np.triu_indices_from(mask)] = True\n",
    "\n",
    "# Set up the matplotlib figure\n",
    "f, ax = plt.subplots(figsize=(10, 8))\n",
    "\n",
    "# Generate a custom diverging colormap\n",
    "cmap = sns.diverging_palette(220, 10, as_cmap=True)\n",
    "\n",
    "# Draw the heatmap with the mask and correct aspect ratio\n",
    "sns.heatmap(corr, mask=mask, cmap=cmap, vmax=1, center=0,\n",
    "            square=True, linewidths=.5, cbar_kws={\"shrink\": .5})\n",
    "\n",
    "plt.title('Correlation Matrix')"
   ]
  },
  {
   "cell_type": "code",
   "execution_count": 24,
   "metadata": {},
   "outputs": [],
   "source": [
    "#get rid of excess columns\n",
    "data.drop(columns = ['Critic_Score','Normalized_Critic_Score','sqrt_sales','log_exp_sales','log_plus_sales'],axis = 1,inplace = True)"
   ]
  },
  {
   "cell_type": "markdown",
   "metadata": {},
   "source": [
    "---\n",
    "<b>Create dummy variables"
   ]
  },
  {
   "cell_type": "code",
   "execution_count": 25,
   "metadata": {},
   "outputs": [],
   "source": [
    "data['Age_Copy'] = data['Age']"
   ]
  },
  {
   "cell_type": "code",
   "execution_count": 26,
   "metadata": {},
   "outputs": [],
   "source": [
    "columns = ['Multiplatform','Age','Frequent_Publisher']\n",
    "data = pd.get_dummies(data=data, columns=columns, prefix=columns, drop_first=True)\n",
    "#Drops NOT a multiplatform\n",
    "#Drops Age 1 which is 1 year old\n",
    "#Drops NOT a frequent publisher\n",
    "\n",
    "\n",
    "#Genres: ['Simulation', 'Shooter', 'Role-Playing', 'Strategy', 'Adventure',\n",
    "#         'MMO', 'Sports', 'Action', 'Action-Adventure', 'Music', 'Racing',\n",
    "#       'Fighting', 'Platform', 'Misc', 'Puzzle']\n",
    "#   Dropped: Action:\n"
   ]
  },
  {
   "cell_type": "code",
   "execution_count": 27,
   "metadata": {},
   "outputs": [
    {
     "data": {
      "text/plain": [
       "('Shooter', 'M')"
      ]
     },
     "execution_count": 27,
     "metadata": {},
     "output_type": "execute_result"
    }
   ],
   "source": [
    "#Most common genre and ESRB_Rating to drop and use as reference in a model\n",
    "data.Genre.value_counts(ascending = False).index[0],data.ESRB_Rating.value_counts(ascending = False).index[0]"
   ]
  },
  {
   "cell_type": "code",
   "execution_count": 28,
   "metadata": {
    "scrolled": true
   },
   "outputs": [],
   "source": [
    "data = pd.get_dummies(data=data, columns=['Genre'], prefix=['Genre'])"
   ]
  },
  {
   "cell_type": "code",
   "execution_count": 29,
   "metadata": {},
   "outputs": [],
   "source": [
    "data.drop(columns=['Genre_Shooter'],axis = 1, inplace = True)"
   ]
  },
  {
   "cell_type": "code",
   "execution_count": 30,
   "metadata": {},
   "outputs": [],
   "source": [
    "rename_col = {\n",
    "    'Genre_Action-Adventure': 'Genre_Action_Adventure',\n",
    "    'Genre_Role-Playing': 'Genre_Role_Playing'\n",
    "}\n",
    "data.rename(columns = rename_col,inplace = True)"
   ]
  },
  {
   "cell_type": "code",
   "execution_count": 31,
   "metadata": {},
   "outputs": [
    {
     "data": {
      "text/plain": [
       "Index(['Name', 'ESRB_Rating', 'Publisher', 'Platform_count',\n",
       "       'Global_Sales_Adj', 'exp_score', 'log_sales', 'Age_Copy',\n",
       "       'Multiplatform_1', 'Age_2', 'Age_3', 'Age_4', 'Age_5', 'Age_6', 'Age_7',\n",
       "       'Age_8', 'Age_9', 'Age_10', 'Age_11', 'Age_12', 'Age_13', 'Age_14',\n",
       "       'Age_15', 'Age_16', 'Age_17', 'Age_18', 'Age_19', 'Age_20', 'Age_21',\n",
       "       'Age_22', 'Age_23', 'Age_24', 'Age_25', 'Age_26',\n",
       "       'Frequent_Publisher_1', 'Frequent_Publisher_2', 'Genre_Action',\n",
       "       'Genre_Action_Adventure', 'Genre_Adventure', 'Genre_Fighting',\n",
       "       'Genre_MMO', 'Genre_Misc', 'Genre_Music', 'Genre_Platform',\n",
       "       'Genre_Puzzle', 'Genre_Racing', 'Genre_Role_Playing',\n",
       "       'Genre_Simulation', 'Genre_Sports', 'Genre_Strategy'],\n",
       "      dtype='object')"
      ]
     },
     "execution_count": 31,
     "metadata": {},
     "output_type": "execute_result"
    }
   ],
   "source": [
    "data.columns"
   ]
  },
  {
   "cell_type": "markdown",
   "metadata": {},
   "source": [
    "<b>Checkpoint"
   ]
  },
  {
   "cell_type": "code",
   "execution_count": 32,
   "metadata": {},
   "outputs": [],
   "source": [
    "# data_copy = data.copy()"
   ]
  },
  {
   "cell_type": "code",
   "execution_count": 33,
   "metadata": {},
   "outputs": [],
   "source": [
    "# data = data_copy #checkpoint "
   ]
  },
  {
   "cell_type": "code",
   "execution_count": 34,
   "metadata": {},
   "outputs": [],
   "source": [
    "data.reset_index(drop = True,inplace = True)"
   ]
  },
  {
   "cell_type": "markdown",
   "metadata": {},
   "source": [
    "# OLS Features"
   ]
  },
  {
   "cell_type": "code",
   "execution_count": 35,
   "metadata": {},
   "outputs": [],
   "source": [
    "drop_cols = [\n",
    "    'Name','Publisher','Global_Sales_Adj','log_sales','Age_Copy','ESRB_Rating'\n",
    "#     ,'Platform_count' #from simple OLS\n",
    "]\n",
    "features = data.drop(columns = drop_cols, axis = 1)"
   ]
  },
  {
   "cell_type": "code",
   "execution_count": 36,
   "metadata": {},
   "outputs": [],
   "source": [
    "target = data.log_sales"
   ]
  },
  {
   "cell_type": "markdown",
   "metadata": {},
   "source": [
    "<b>OLS</b>"
   ]
  },
  {
   "cell_type": "code",
   "execution_count": 37,
   "metadata": {},
   "outputs": [
    {
     "data": {
      "text/html": [
       "<table class=\"simpletable\">\n",
       "<caption>OLS Regression Results</caption>\n",
       "<tr>\n",
       "  <th>Dep. Variable:</th>        <td>log_sales</td>    <th>  R-squared:         </th> <td>   0.576</td>\n",
       "</tr>\n",
       "<tr>\n",
       "  <th>Model:</th>                   <td>OLS</td>       <th>  Adj. R-squared:    </th> <td>   0.504</td>\n",
       "</tr>\n",
       "<tr>\n",
       "  <th>Method:</th>             <td>Least Squares</td>  <th>  F-statistic:       </th> <td>   7.969</td>\n",
       "</tr>\n",
       "<tr>\n",
       "  <th>Date:</th>             <td>Fri, 08 May 2020</td> <th>  Prob (F-statistic):</th> <td>1.97e-28</td>\n",
       "</tr>\n",
       "<tr>\n",
       "  <th>Time:</th>                 <td>11:16:38</td>     <th>  Log-Likelihood:    </th> <td> -450.73</td>\n",
       "</tr>\n",
       "<tr>\n",
       "  <th>No. Observations:</th>      <td>   303</td>      <th>  AIC:               </th> <td>   991.5</td>\n",
       "</tr>\n",
       "<tr>\n",
       "  <th>Df Residuals:</th>          <td>   258</td>      <th>  BIC:               </th> <td>   1159.</td>\n",
       "</tr>\n",
       "<tr>\n",
       "  <th>Df Model:</th>              <td>    44</td>      <th>                     </th>     <td> </td>   \n",
       "</tr>\n",
       "<tr>\n",
       "  <th>Covariance Type:</th>      <td>nonrobust</td>    <th>                     </th>     <td> </td>   \n",
       "</tr>\n",
       "</table>\n",
       "<table class=\"simpletable\">\n",
       "<tr>\n",
       "             <td></td>               <th>coef</th>     <th>std err</th>      <th>t</th>      <th>P>|t|</th>  <th>[0.025</th>    <th>0.975]</th>  \n",
       "</tr>\n",
       "<tr>\n",
       "  <th>Intercept</th>              <td>   -4.3580</td> <td>    0.887</td> <td>   -4.913</td> <td> 0.000</td> <td>   -6.105</td> <td>   -2.611</td>\n",
       "</tr>\n",
       "<tr>\n",
       "  <th>Platform_count</th>         <td>    0.0686</td> <td>    0.055</td> <td>    1.246</td> <td> 0.214</td> <td>   -0.040</td> <td>    0.177</td>\n",
       "</tr>\n",
       "<tr>\n",
       "  <th>exp_score</th>              <td>    0.0392</td> <td>    0.004</td> <td>    8.735</td> <td> 0.000</td> <td>    0.030</td> <td>    0.048</td>\n",
       "</tr>\n",
       "<tr>\n",
       "  <th>Multiplatform_1</th>        <td>    0.4275</td> <td>    0.240</td> <td>    1.785</td> <td> 0.075</td> <td>   -0.044</td> <td>    0.899</td>\n",
       "</tr>\n",
       "<tr>\n",
       "  <th>Age_2</th>                  <td>   -2.0109</td> <td>    1.089</td> <td>   -1.847</td> <td> 0.066</td> <td>   -4.155</td> <td>    0.133</td>\n",
       "</tr>\n",
       "<tr>\n",
       "  <th>Age_3</th>                  <td>   -0.5886</td> <td>    1.247</td> <td>   -0.472</td> <td> 0.637</td> <td>   -3.045</td> <td>    1.867</td>\n",
       "</tr>\n",
       "<tr>\n",
       "  <th>Age_4</th>                  <td>   -0.7048</td> <td>    0.995</td> <td>   -0.709</td> <td> 0.479</td> <td>   -2.664</td> <td>    1.254</td>\n",
       "</tr>\n",
       "<tr>\n",
       "  <th>Age_5</th>                  <td>   -0.1849</td> <td>    1.042</td> <td>   -0.177</td> <td> 0.859</td> <td>   -2.237</td> <td>    1.868</td>\n",
       "</tr>\n",
       "<tr>\n",
       "  <th>Age_6</th>                  <td>   -1.3411</td> <td>    1.108</td> <td>   -1.211</td> <td> 0.227</td> <td>   -3.523</td> <td>    0.840</td>\n",
       "</tr>\n",
       "<tr>\n",
       "  <th>Age_7</th>                  <td>   -1.3808</td> <td>    1.070</td> <td>   -1.291</td> <td> 0.198</td> <td>   -3.487</td> <td>    0.726</td>\n",
       "</tr>\n",
       "<tr>\n",
       "  <th>Age_8</th>                  <td>   -0.7738</td> <td>    0.856</td> <td>   -0.904</td> <td> 0.367</td> <td>   -2.459</td> <td>    0.911</td>\n",
       "</tr>\n",
       "<tr>\n",
       "  <th>Age_9</th>                  <td>   -1.4380</td> <td>    0.867</td> <td>   -1.659</td> <td> 0.098</td> <td>   -3.145</td> <td>    0.269</td>\n",
       "</tr>\n",
       "<tr>\n",
       "  <th>Age_10</th>                 <td>   -2.0231</td> <td>    0.873</td> <td>   -2.318</td> <td> 0.021</td> <td>   -3.742</td> <td>   -0.304</td>\n",
       "</tr>\n",
       "<tr>\n",
       "  <th>Age_11</th>                 <td>   -1.6634</td> <td>    0.873</td> <td>   -1.905</td> <td> 0.058</td> <td>   -3.382</td> <td>    0.056</td>\n",
       "</tr>\n",
       "<tr>\n",
       "  <th>Age_12</th>                 <td>   -2.9128</td> <td>    0.881</td> <td>   -3.306</td> <td> 0.001</td> <td>   -4.648</td> <td>   -1.178</td>\n",
       "</tr>\n",
       "<tr>\n",
       "  <th>Age_13</th>                 <td>   -3.4278</td> <td>    0.891</td> <td>   -3.848</td> <td> 0.000</td> <td>   -5.182</td> <td>   -1.673</td>\n",
       "</tr>\n",
       "<tr>\n",
       "  <th>Age_14</th>                 <td>   -2.5246</td> <td>    0.906</td> <td>   -2.788</td> <td> 0.006</td> <td>   -4.308</td> <td>   -0.741</td>\n",
       "</tr>\n",
       "<tr>\n",
       "  <th>Age_15</th>                 <td>   -3.1273</td> <td>    0.976</td> <td>   -3.203</td> <td> 0.002</td> <td>   -5.050</td> <td>   -1.205</td>\n",
       "</tr>\n",
       "<tr>\n",
       "  <th>Age_16</th>                 <td>   -3.3509</td> <td>    0.938</td> <td>   -3.571</td> <td> 0.000</td> <td>   -5.199</td> <td>   -1.503</td>\n",
       "</tr>\n",
       "<tr>\n",
       "  <th>Age_17</th>                 <td>   -2.5662</td> <td>    0.956</td> <td>   -2.685</td> <td> 0.008</td> <td>   -4.448</td> <td>   -0.684</td>\n",
       "</tr>\n",
       "<tr>\n",
       "  <th>Age_18</th>                 <td>   -3.4986</td> <td>    1.106</td> <td>   -3.163</td> <td> 0.002</td> <td>   -5.677</td> <td>   -1.320</td>\n",
       "</tr>\n",
       "<tr>\n",
       "  <th>Age_19</th>                 <td>   -3.7365</td> <td>    0.999</td> <td>   -3.740</td> <td> 0.000</td> <td>   -5.704</td> <td>   -1.769</td>\n",
       "</tr>\n",
       "<tr>\n",
       "  <th>Age_20</th>                 <td>   -3.1067</td> <td>    0.995</td> <td>   -3.123</td> <td> 0.002</td> <td>   -5.065</td> <td>   -1.148</td>\n",
       "</tr>\n",
       "<tr>\n",
       "  <th>Age_21</th>                 <td>   -1.2027</td> <td>    1.107</td> <td>   -1.087</td> <td> 0.278</td> <td>   -3.382</td> <td>    0.976</td>\n",
       "</tr>\n",
       "<tr>\n",
       "  <th>Age_22</th>                 <td>    1.2332</td> <td>    1.188</td> <td>    1.038</td> <td> 0.300</td> <td>   -1.106</td> <td>    3.572</td>\n",
       "</tr>\n",
       "<tr>\n",
       "  <th>Age_23</th>                 <td>    0.6899</td> <td>    1.099</td> <td>    0.628</td> <td> 0.531</td> <td>   -1.474</td> <td>    2.854</td>\n",
       "</tr>\n",
       "<tr>\n",
       "  <th>Age_24</th>                 <td>   -3.9707</td> <td>    1.898</td> <td>   -2.092</td> <td> 0.037</td> <td>   -7.708</td> <td>   -0.233</td>\n",
       "</tr>\n",
       "<tr>\n",
       "  <th>Age_25</th>                 <td>    0.9904</td> <td>    1.468</td> <td>    0.674</td> <td> 0.501</td> <td>   -1.901</td> <td>    3.882</td>\n",
       "</tr>\n",
       "<tr>\n",
       "  <th>Age_26</th>                 <td>   -1.7391</td> <td>    1.231</td> <td>   -1.412</td> <td> 0.159</td> <td>   -4.164</td> <td>    0.686</td>\n",
       "</tr>\n",
       "<tr>\n",
       "  <th>Frequent_Publisher_1</th>   <td>    0.4036</td> <td>    0.210</td> <td>    1.917</td> <td> 0.056</td> <td>   -0.011</td> <td>    0.818</td>\n",
       "</tr>\n",
       "<tr>\n",
       "  <th>Frequent_Publisher_2</th>   <td>    0.7434</td> <td>    0.179</td> <td>    4.146</td> <td> 0.000</td> <td>    0.390</td> <td>    1.097</td>\n",
       "</tr>\n",
       "<tr>\n",
       "  <th>Genre_Action</th>           <td>   -0.3018</td> <td>    0.274</td> <td>   -1.100</td> <td> 0.273</td> <td>   -0.842</td> <td>    0.239</td>\n",
       "</tr>\n",
       "<tr>\n",
       "  <th>Genre_Action_Adventure</th> <td>    0.2438</td> <td>    0.681</td> <td>    0.358</td> <td> 0.721</td> <td>   -1.098</td> <td>    1.585</td>\n",
       "</tr>\n",
       "<tr>\n",
       "  <th>Genre_Adventure</th>        <td>   -0.0280</td> <td>    0.334</td> <td>   -0.084</td> <td> 0.933</td> <td>   -0.686</td> <td>    0.630</td>\n",
       "</tr>\n",
       "<tr>\n",
       "  <th>Genre_Fighting</th>         <td>   -0.4660</td> <td>    0.852</td> <td>   -0.547</td> <td> 0.585</td> <td>   -2.144</td> <td>    1.212</td>\n",
       "</tr>\n",
       "<tr>\n",
       "  <th>Genre_MMO</th>              <td>    2.6469</td> <td>    0.855</td> <td>    3.098</td> <td> 0.002</td> <td>    0.964</td> <td>    4.330</td>\n",
       "</tr>\n",
       "<tr>\n",
       "  <th>Genre_Misc</th>             <td>   -0.0488</td> <td>    1.195</td> <td>   -0.041</td> <td> 0.967</td> <td>   -2.401</td> <td>    2.303</td>\n",
       "</tr>\n",
       "<tr>\n",
       "  <th>Genre_Music</th>            <td>   -0.2293</td> <td>    1.475</td> <td>   -0.156</td> <td> 0.877</td> <td>   -3.133</td> <td>    2.675</td>\n",
       "</tr>\n",
       "<tr>\n",
       "  <th>Genre_Platform</th>         <td>   -0.6558</td> <td>    0.492</td> <td>   -1.332</td> <td> 0.184</td> <td>   -1.625</td> <td>    0.313</td>\n",
       "</tr>\n",
       "<tr>\n",
       "  <th>Genre_Puzzle</th>           <td>   -1.3465</td> <td>    0.857</td> <td>   -1.571</td> <td> 0.117</td> <td>   -3.035</td> <td>    0.341</td>\n",
       "</tr>\n",
       "<tr>\n",
       "  <th>Genre_Racing</th>           <td>   -0.7073</td> <td>    0.352</td> <td>   -2.007</td> <td> 0.046</td> <td>   -1.401</td> <td>   -0.013</td>\n",
       "</tr>\n",
       "<tr>\n",
       "  <th>Genre_Role_Playing</th>     <td>    0.2563</td> <td>    0.239</td> <td>    1.074</td> <td> 0.284</td> <td>   -0.214</td> <td>    0.726</td>\n",
       "</tr>\n",
       "<tr>\n",
       "  <th>Genre_Simulation</th>       <td>    1.4940</td> <td>    0.291</td> <td>    5.125</td> <td> 0.000</td> <td>    0.920</td> <td>    2.068</td>\n",
       "</tr>\n",
       "<tr>\n",
       "  <th>Genre_Sports</th>           <td>    0.1304</td> <td>    0.375</td> <td>    0.348</td> <td> 0.728</td> <td>   -0.608</td> <td>    0.869</td>\n",
       "</tr>\n",
       "<tr>\n",
       "  <th>Genre_Strategy</th>         <td>    0.6588</td> <td>    0.236</td> <td>    2.790</td> <td> 0.006</td> <td>    0.194</td> <td>    1.124</td>\n",
       "</tr>\n",
       "</table>\n",
       "<table class=\"simpletable\">\n",
       "<tr>\n",
       "  <th>Omnibus:</th>       <td> 6.200</td> <th>  Durbin-Watson:     </th> <td>   1.045</td>\n",
       "</tr>\n",
       "<tr>\n",
       "  <th>Prob(Omnibus):</th> <td> 0.045</td> <th>  Jarque-Bera (JB):  </th> <td>   7.759</td>\n",
       "</tr>\n",
       "<tr>\n",
       "  <th>Skew:</th>          <td> 0.168</td> <th>  Prob(JB):          </th> <td>  0.0207</td>\n",
       "</tr>\n",
       "<tr>\n",
       "  <th>Kurtosis:</th>      <td> 3.708</td> <th>  Cond. No.          </th> <td>4.26e+03</td>\n",
       "</tr>\n",
       "</table><br/><br/>Warnings:<br/>[1] Standard Errors assume that the covariance matrix of the errors is correctly specified.<br/>[2] The condition number is large, 4.26e+03. This might indicate that there are<br/>strong multicollinearity or other numerical problems."
      ],
      "text/plain": [
       "<class 'statsmodels.iolib.summary.Summary'>\n",
       "\"\"\"\n",
       "                            OLS Regression Results                            \n",
       "==============================================================================\n",
       "Dep. Variable:              log_sales   R-squared:                       0.576\n",
       "Model:                            OLS   Adj. R-squared:                  0.504\n",
       "Method:                 Least Squares   F-statistic:                     7.969\n",
       "Date:                Fri, 08 May 2020   Prob (F-statistic):           1.97e-28\n",
       "Time:                        11:16:38   Log-Likelihood:                -450.73\n",
       "No. Observations:                 303   AIC:                             991.5\n",
       "Df Residuals:                     258   BIC:                             1159.\n",
       "Df Model:                          44                                         \n",
       "Covariance Type:            nonrobust                                         \n",
       "==========================================================================================\n",
       "                             coef    std err          t      P>|t|      [0.025      0.975]\n",
       "------------------------------------------------------------------------------------------\n",
       "Intercept                 -4.3580      0.887     -4.913      0.000      -6.105      -2.611\n",
       "Platform_count             0.0686      0.055      1.246      0.214      -0.040       0.177\n",
       "exp_score                  0.0392      0.004      8.735      0.000       0.030       0.048\n",
       "Multiplatform_1            0.4275      0.240      1.785      0.075      -0.044       0.899\n",
       "Age_2                     -2.0109      1.089     -1.847      0.066      -4.155       0.133\n",
       "Age_3                     -0.5886      1.247     -0.472      0.637      -3.045       1.867\n",
       "Age_4                     -0.7048      0.995     -0.709      0.479      -2.664       1.254\n",
       "Age_5                     -0.1849      1.042     -0.177      0.859      -2.237       1.868\n",
       "Age_6                     -1.3411      1.108     -1.211      0.227      -3.523       0.840\n",
       "Age_7                     -1.3808      1.070     -1.291      0.198      -3.487       0.726\n",
       "Age_8                     -0.7738      0.856     -0.904      0.367      -2.459       0.911\n",
       "Age_9                     -1.4380      0.867     -1.659      0.098      -3.145       0.269\n",
       "Age_10                    -2.0231      0.873     -2.318      0.021      -3.742      -0.304\n",
       "Age_11                    -1.6634      0.873     -1.905      0.058      -3.382       0.056\n",
       "Age_12                    -2.9128      0.881     -3.306      0.001      -4.648      -1.178\n",
       "Age_13                    -3.4278      0.891     -3.848      0.000      -5.182      -1.673\n",
       "Age_14                    -2.5246      0.906     -2.788      0.006      -4.308      -0.741\n",
       "Age_15                    -3.1273      0.976     -3.203      0.002      -5.050      -1.205\n",
       "Age_16                    -3.3509      0.938     -3.571      0.000      -5.199      -1.503\n",
       "Age_17                    -2.5662      0.956     -2.685      0.008      -4.448      -0.684\n",
       "Age_18                    -3.4986      1.106     -3.163      0.002      -5.677      -1.320\n",
       "Age_19                    -3.7365      0.999     -3.740      0.000      -5.704      -1.769\n",
       "Age_20                    -3.1067      0.995     -3.123      0.002      -5.065      -1.148\n",
       "Age_21                    -1.2027      1.107     -1.087      0.278      -3.382       0.976\n",
       "Age_22                     1.2332      1.188      1.038      0.300      -1.106       3.572\n",
       "Age_23                     0.6899      1.099      0.628      0.531      -1.474       2.854\n",
       "Age_24                    -3.9707      1.898     -2.092      0.037      -7.708      -0.233\n",
       "Age_25                     0.9904      1.468      0.674      0.501      -1.901       3.882\n",
       "Age_26                    -1.7391      1.231     -1.412      0.159      -4.164       0.686\n",
       "Frequent_Publisher_1       0.4036      0.210      1.917      0.056      -0.011       0.818\n",
       "Frequent_Publisher_2       0.7434      0.179      4.146      0.000       0.390       1.097\n",
       "Genre_Action              -0.3018      0.274     -1.100      0.273      -0.842       0.239\n",
       "Genre_Action_Adventure     0.2438      0.681      0.358      0.721      -1.098       1.585\n",
       "Genre_Adventure           -0.0280      0.334     -0.084      0.933      -0.686       0.630\n",
       "Genre_Fighting            -0.4660      0.852     -0.547      0.585      -2.144       1.212\n",
       "Genre_MMO                  2.6469      0.855      3.098      0.002       0.964       4.330\n",
       "Genre_Misc                -0.0488      1.195     -0.041      0.967      -2.401       2.303\n",
       "Genre_Music               -0.2293      1.475     -0.156      0.877      -3.133       2.675\n",
       "Genre_Platform            -0.6558      0.492     -1.332      0.184      -1.625       0.313\n",
       "Genre_Puzzle              -1.3465      0.857     -1.571      0.117      -3.035       0.341\n",
       "Genre_Racing              -0.7073      0.352     -2.007      0.046      -1.401      -0.013\n",
       "Genre_Role_Playing         0.2563      0.239      1.074      0.284      -0.214       0.726\n",
       "Genre_Simulation           1.4940      0.291      5.125      0.000       0.920       2.068\n",
       "Genre_Sports               0.1304      0.375      0.348      0.728      -0.608       0.869\n",
       "Genre_Strategy             0.6588      0.236      2.790      0.006       0.194       1.124\n",
       "==============================================================================\n",
       "Omnibus:                        6.200   Durbin-Watson:                   1.045\n",
       "Prob(Omnibus):                  0.045   Jarque-Bera (JB):                7.759\n",
       "Skew:                           0.168   Prob(JB):                       0.0207\n",
       "Kurtosis:                       3.708   Cond. No.                     4.26e+03\n",
       "==============================================================================\n",
       "\n",
       "Warnings:\n",
       "[1] Standard Errors assume that the covariance matrix of the errors is correctly specified.\n",
       "[2] The condition number is large, 4.26e+03. This might indicate that there are\n",
       "strong multicollinearity or other numerical problems.\n",
       "\"\"\""
      ]
     },
     "execution_count": 37,
     "metadata": {},
     "output_type": "execute_result"
    }
   ],
   "source": [
    "ind_v = '+'.join(list((features.columns)))\n",
    "dep_v = 'log_sales'\n",
    "f = dep_v+'~'+ind_v\n",
    "model = ols(f,data).fit()\n",
    "model.summary()"
   ]
  },
  {
   "cell_type": "markdown",
   "metadata": {},
   "source": [
    "* Some Genres and some Ages have large p-values, but they are dummies\n",
    "* Being as a dummy, don't drop single variables, instead reengineer the values like 'Age' to be 'Recent Release' since ages > 10 have large p-values.\n",
    "* Drop Platform_count since large p-value and not dummy"
   ]
  },
  {
   "cell_type": "code",
   "execution_count": 38,
   "metadata": {},
   "outputs": [],
   "source": [
    "drop_features = ['Platform_count']\n",
    "features = features.drop(columns = drop_features)"
   ]
  },
  {
   "cell_type": "markdown",
   "metadata": {},
   "source": [
    "<b>Replacing dummies with new feature pertaining to age"
   ]
  },
  {
   "cell_type": "code",
   "execution_count": 39,
   "metadata": {
    "scrolled": false
   },
   "outputs": [],
   "source": [
    "# drop_ages = features.iloc[:,2:27] #get all age dummies\n",
    "# drop_cols = drop_ages.columns \n",
    "# features.drop(columns = drop_cols, inplace = True)"
   ]
  },
  {
   "cell_type": "code",
   "execution_count": 40,
   "metadata": {},
   "outputs": [],
   "source": [
    "# features['Age'] = data_copy['Age_Copy'] #add back in Age\n",
    "# # conditions = \n",
    "# features['Recent_Release'] = np.select([features['Age'] > 10],[0],1) # Older than 10 means NOT recent, Younger = recent\n",
    "# features['Recent_Release'] = features['Recent_Release'].astype('category')\n",
    "# features.drop(columns = 'Age',axis=1,inplace = True)"
   ]
  },
  {
   "cell_type": "code",
   "execution_count": 41,
   "metadata": {},
   "outputs": [],
   "source": [
    "# #dummy new variable dropping reference point NOT recent\n",
    "# features = pd.get_dummies(data=features, columns=['Recent_Release'], prefix=['Recent_Release'], drop_first=True)"
   ]
  },
  {
   "cell_type": "code",
   "execution_count": 42,
   "metadata": {},
   "outputs": [],
   "source": [
    "# data['Recent_Release_1'] = features['Recent_Release_1']"
   ]
  },
  {
   "cell_type": "code",
   "execution_count": 43,
   "metadata": {
    "scrolled": true
   },
   "outputs": [
    {
     "data": {
      "text/html": [
       "<table class=\"simpletable\">\n",
       "<caption>OLS Regression Results</caption>\n",
       "<tr>\n",
       "  <th>Dep. Variable:</th>        <td>log_sales</td>    <th>  R-squared:         </th> <td>   0.574</td>\n",
       "</tr>\n",
       "<tr>\n",
       "  <th>Model:</th>                   <td>OLS</td>       <th>  Adj. R-squared:    </th> <td>   0.503</td>\n",
       "</tr>\n",
       "<tr>\n",
       "  <th>Method:</th>             <td>Least Squares</td>  <th>  F-statistic:       </th> <td>   8.101</td>\n",
       "</tr>\n",
       "<tr>\n",
       "  <th>Date:</th>             <td>Fri, 08 May 2020</td> <th>  Prob (F-statistic):</th> <td>1.35e-28</td>\n",
       "</tr>\n",
       "<tr>\n",
       "  <th>Time:</th>                 <td>11:16:44</td>     <th>  Log-Likelihood:    </th> <td> -451.64</td>\n",
       "</tr>\n",
       "<tr>\n",
       "  <th>No. Observations:</th>      <td>   303</td>      <th>  AIC:               </th> <td>   991.3</td>\n",
       "</tr>\n",
       "<tr>\n",
       "  <th>Df Residuals:</th>          <td>   259</td>      <th>  BIC:               </th> <td>   1155.</td>\n",
       "</tr>\n",
       "<tr>\n",
       "  <th>Df Model:</th>              <td>    43</td>      <th>                     </th>     <td> </td>   \n",
       "</tr>\n",
       "<tr>\n",
       "  <th>Covariance Type:</th>      <td>nonrobust</td>    <th>                     </th>     <td> </td>   \n",
       "</tr>\n",
       "</table>\n",
       "<table class=\"simpletable\">\n",
       "<tr>\n",
       "             <td></td>               <th>coef</th>     <th>std err</th>      <th>t</th>      <th>P>|t|</th>  <th>[0.025</th>    <th>0.975]</th>  \n",
       "</tr>\n",
       "<tr>\n",
       "  <th>Intercept</th>              <td>   -4.3856</td> <td>    0.888</td> <td>   -4.941</td> <td> 0.000</td> <td>   -6.133</td> <td>   -2.638</td>\n",
       "</tr>\n",
       "<tr>\n",
       "  <th>exp_score</th>              <td>    0.0394</td> <td>    0.004</td> <td>    8.793</td> <td> 0.000</td> <td>    0.031</td> <td>    0.048</td>\n",
       "</tr>\n",
       "<tr>\n",
       "  <th>Multiplatform_1</th>        <td>    0.6192</td> <td>    0.184</td> <td>    3.371</td> <td> 0.001</td> <td>    0.258</td> <td>    0.981</td>\n",
       "</tr>\n",
       "<tr>\n",
       "  <th>Age_2</th>                  <td>   -1.9949</td> <td>    1.090</td> <td>   -1.830</td> <td> 0.068</td> <td>   -4.141</td> <td>    0.151</td>\n",
       "</tr>\n",
       "<tr>\n",
       "  <th>Age_3</th>                  <td>   -0.5728</td> <td>    1.248</td> <td>   -0.459</td> <td> 0.647</td> <td>   -3.031</td> <td>    1.886</td>\n",
       "</tr>\n",
       "<tr>\n",
       "  <th>Age_4</th>                  <td>   -0.6844</td> <td>    0.996</td> <td>   -0.687</td> <td> 0.492</td> <td>   -2.645</td> <td>    1.276</td>\n",
       "</tr>\n",
       "<tr>\n",
       "  <th>Age_5</th>                  <td>   -0.0414</td> <td>    1.037</td> <td>   -0.040</td> <td> 0.968</td> <td>   -2.083</td> <td>    2.001</td>\n",
       "</tr>\n",
       "<tr>\n",
       "  <th>Age_6</th>                  <td>   -1.1926</td> <td>    1.103</td> <td>   -1.082</td> <td> 0.280</td> <td>   -3.364</td> <td>    0.979</td>\n",
       "</tr>\n",
       "<tr>\n",
       "  <th>Age_7</th>                  <td>   -1.2980</td> <td>    1.069</td> <td>   -1.214</td> <td> 0.226</td> <td>   -3.403</td> <td>    0.807</td>\n",
       "</tr>\n",
       "<tr>\n",
       "  <th>Age_8</th>                  <td>   -0.7276</td> <td>    0.856</td> <td>   -0.850</td> <td> 0.396</td> <td>   -2.413</td> <td>    0.958</td>\n",
       "</tr>\n",
       "<tr>\n",
       "  <th>Age_9</th>                  <td>   -1.3762</td> <td>    0.867</td> <td>   -1.588</td> <td> 0.113</td> <td>   -3.083</td> <td>    0.330</td>\n",
       "</tr>\n",
       "<tr>\n",
       "  <th>Age_10</th>                 <td>   -1.9545</td> <td>    0.872</td> <td>   -2.241</td> <td> 0.026</td> <td>   -3.672</td> <td>   -0.237</td>\n",
       "</tr>\n",
       "<tr>\n",
       "  <th>Age_11</th>                 <td>   -1.5770</td> <td>    0.871</td> <td>   -1.810</td> <td> 0.071</td> <td>   -3.293</td> <td>    0.138</td>\n",
       "</tr>\n",
       "<tr>\n",
       "  <th>Age_12</th>                 <td>   -2.8412</td> <td>    0.880</td> <td>   -3.228</td> <td> 0.001</td> <td>   -4.574</td> <td>   -1.108</td>\n",
       "</tr>\n",
       "<tr>\n",
       "  <th>Age_13</th>                 <td>   -3.3262</td> <td>    0.888</td> <td>   -3.745</td> <td> 0.000</td> <td>   -5.075</td> <td>   -1.577</td>\n",
       "</tr>\n",
       "<tr>\n",
       "  <th>Age_14</th>                 <td>   -2.4321</td> <td>    0.904</td> <td>   -2.692</td> <td> 0.008</td> <td>   -4.211</td> <td>   -0.653</td>\n",
       "</tr>\n",
       "<tr>\n",
       "  <th>Age_15</th>                 <td>   -3.0414</td> <td>    0.975</td> <td>   -3.119</td> <td> 0.002</td> <td>   -4.961</td> <td>   -1.121</td>\n",
       "</tr>\n",
       "<tr>\n",
       "  <th>Age_16</th>                 <td>   -3.3235</td> <td>    0.939</td> <td>   -3.539</td> <td> 0.000</td> <td>   -5.173</td> <td>   -1.474</td>\n",
       "</tr>\n",
       "<tr>\n",
       "  <th>Age_17</th>                 <td>   -2.5314</td> <td>    0.956</td> <td>   -2.647</td> <td> 0.009</td> <td>   -4.415</td> <td>   -0.648</td>\n",
       "</tr>\n",
       "<tr>\n",
       "  <th>Age_18</th>                 <td>   -3.4009</td> <td>    1.104</td> <td>   -3.079</td> <td> 0.002</td> <td>   -5.576</td> <td>   -1.226</td>\n",
       "</tr>\n",
       "<tr>\n",
       "  <th>Age_19</th>                 <td>   -3.6865</td> <td>    0.999</td> <td>   -3.689</td> <td> 0.000</td> <td>   -5.654</td> <td>   -1.719</td>\n",
       "</tr>\n",
       "<tr>\n",
       "  <th>Age_20</th>                 <td>   -3.0987</td> <td>    0.996</td> <td>   -3.112</td> <td> 0.002</td> <td>   -5.059</td> <td>   -1.138</td>\n",
       "</tr>\n",
       "<tr>\n",
       "  <th>Age_21</th>                 <td>   -1.1954</td> <td>    1.108</td> <td>   -1.079</td> <td> 0.282</td> <td>   -3.377</td> <td>    0.986</td>\n",
       "</tr>\n",
       "<tr>\n",
       "  <th>Age_22</th>                 <td>    1.2203</td> <td>    1.189</td> <td>    1.026</td> <td> 0.306</td> <td>   -1.121</td> <td>    3.561</td>\n",
       "</tr>\n",
       "<tr>\n",
       "  <th>Age_23</th>                 <td>    0.7478</td> <td>    1.099</td> <td>    0.680</td> <td> 0.497</td> <td>   -1.417</td> <td>    2.912</td>\n",
       "</tr>\n",
       "<tr>\n",
       "  <th>Age_24</th>                 <td>   -3.7525</td> <td>    1.892</td> <td>   -1.983</td> <td> 0.048</td> <td>   -7.478</td> <td>   -0.027</td>\n",
       "</tr>\n",
       "<tr>\n",
       "  <th>Age_25</th>                 <td>    1.0094</td> <td>    1.470</td> <td>    0.687</td> <td> 0.493</td> <td>   -1.885</td> <td>    3.904</td>\n",
       "</tr>\n",
       "<tr>\n",
       "  <th>Age_26</th>                 <td>   -1.4208</td> <td>    1.206</td> <td>   -1.178</td> <td> 0.240</td> <td>   -3.796</td> <td>    0.954</td>\n",
       "</tr>\n",
       "<tr>\n",
       "  <th>Frequent_Publisher_1</th>   <td>    0.3846</td> <td>    0.210</td> <td>    1.830</td> <td> 0.068</td> <td>   -0.029</td> <td>    0.798</td>\n",
       "</tr>\n",
       "<tr>\n",
       "  <th>Frequent_Publisher_2</th>   <td>    0.7564</td> <td>    0.179</td> <td>    4.220</td> <td> 0.000</td> <td>    0.403</td> <td>    1.109</td>\n",
       "</tr>\n",
       "<tr>\n",
       "  <th>Genre_Action</th>           <td>   -0.2294</td> <td>    0.268</td> <td>   -0.854</td> <td> 0.394</td> <td>   -0.758</td> <td>    0.299</td>\n",
       "</tr>\n",
       "<tr>\n",
       "  <th>Genre_Action_Adventure</th> <td>    0.2424</td> <td>    0.682</td> <td>    0.355</td> <td> 0.723</td> <td>   -1.100</td> <td>    1.585</td>\n",
       "</tr>\n",
       "<tr>\n",
       "  <th>Genre_Adventure</th>        <td>    0.0580</td> <td>    0.327</td> <td>    0.177</td> <td> 0.860</td> <td>   -0.587</td> <td>    0.702</td>\n",
       "</tr>\n",
       "<tr>\n",
       "  <th>Genre_Fighting</th>         <td>   -0.3990</td> <td>    0.852</td> <td>   -0.469</td> <td> 0.640</td> <td>   -2.076</td> <td>    1.278</td>\n",
       "</tr>\n",
       "<tr>\n",
       "  <th>Genre_MMO</th>              <td>    2.6245</td> <td>    0.855</td> <td>    3.069</td> <td> 0.002</td> <td>    0.940</td> <td>    4.309</td>\n",
       "</tr>\n",
       "<tr>\n",
       "  <th>Genre_Misc</th>             <td>   -0.0227</td> <td>    1.196</td> <td>   -0.019</td> <td> 0.985</td> <td>   -2.377</td> <td>    2.332</td>\n",
       "</tr>\n",
       "<tr>\n",
       "  <th>Genre_Music</th>            <td>   -0.0317</td> <td>    1.468</td> <td>   -0.022</td> <td> 0.983</td> <td>   -2.922</td> <td>    2.858</td>\n",
       "</tr>\n",
       "<tr>\n",
       "  <th>Genre_Platform</th>         <td>   -0.5021</td> <td>    0.477</td> <td>   -1.053</td> <td> 0.294</td> <td>   -1.441</td> <td>    0.437</td>\n",
       "</tr>\n",
       "<tr>\n",
       "  <th>Genre_Puzzle</th>           <td>   -1.3746</td> <td>    0.858</td> <td>   -1.602</td> <td> 0.110</td> <td>   -3.064</td> <td>    0.315</td>\n",
       "</tr>\n",
       "<tr>\n",
       "  <th>Genre_Racing</th>           <td>   -0.6374</td> <td>    0.348</td> <td>   -1.830</td> <td> 0.068</td> <td>   -1.323</td> <td>    0.048</td>\n",
       "</tr>\n",
       "<tr>\n",
       "  <th>Genre_Role_Playing</th>     <td>    0.2595</td> <td>    0.239</td> <td>    1.086</td> <td> 0.278</td> <td>   -0.211</td> <td>    0.730</td>\n",
       "</tr>\n",
       "<tr>\n",
       "  <th>Genre_Simulation</th>       <td>    1.5249</td> <td>    0.291</td> <td>    5.245</td> <td> 0.000</td> <td>    0.952</td> <td>    2.097</td>\n",
       "</tr>\n",
       "<tr>\n",
       "  <th>Genre_Sports</th>           <td>    0.2754</td> <td>    0.357</td> <td>    0.772</td> <td> 0.441</td> <td>   -0.427</td> <td>    0.978</td>\n",
       "</tr>\n",
       "<tr>\n",
       "  <th>Genre_Strategy</th>         <td>    0.6625</td> <td>    0.236</td> <td>    2.803</td> <td> 0.005</td> <td>    0.197</td> <td>    1.128</td>\n",
       "</tr>\n",
       "</table>\n",
       "<table class=\"simpletable\">\n",
       "<tr>\n",
       "  <th>Omnibus:</th>       <td> 6.198</td> <th>  Durbin-Watson:     </th> <td>   1.050</td>\n",
       "</tr>\n",
       "<tr>\n",
       "  <th>Prob(Omnibus):</th> <td> 0.045</td> <th>  Jarque-Bera (JB):  </th> <td>   7.311</td>\n",
       "</tr>\n",
       "<tr>\n",
       "  <th>Skew:</th>          <td> 0.195</td> <th>  Prob(JB):          </th> <td>  0.0259</td>\n",
       "</tr>\n",
       "<tr>\n",
       "  <th>Kurtosis:</th>      <td> 3.653</td> <th>  Cond. No.          </th> <td>4.25e+03</td>\n",
       "</tr>\n",
       "</table><br/><br/>Warnings:<br/>[1] Standard Errors assume that the covariance matrix of the errors is correctly specified.<br/>[2] The condition number is large, 4.25e+03. This might indicate that there are<br/>strong multicollinearity or other numerical problems."
      ],
      "text/plain": [
       "<class 'statsmodels.iolib.summary.Summary'>\n",
       "\"\"\"\n",
       "                            OLS Regression Results                            \n",
       "==============================================================================\n",
       "Dep. Variable:              log_sales   R-squared:                       0.574\n",
       "Model:                            OLS   Adj. R-squared:                  0.503\n",
       "Method:                 Least Squares   F-statistic:                     8.101\n",
       "Date:                Fri, 08 May 2020   Prob (F-statistic):           1.35e-28\n",
       "Time:                        11:16:44   Log-Likelihood:                -451.64\n",
       "No. Observations:                 303   AIC:                             991.3\n",
       "Df Residuals:                     259   BIC:                             1155.\n",
       "Df Model:                          43                                         \n",
       "Covariance Type:            nonrobust                                         \n",
       "==========================================================================================\n",
       "                             coef    std err          t      P>|t|      [0.025      0.975]\n",
       "------------------------------------------------------------------------------------------\n",
       "Intercept                 -4.3856      0.888     -4.941      0.000      -6.133      -2.638\n",
       "exp_score                  0.0394      0.004      8.793      0.000       0.031       0.048\n",
       "Multiplatform_1            0.6192      0.184      3.371      0.001       0.258       0.981\n",
       "Age_2                     -1.9949      1.090     -1.830      0.068      -4.141       0.151\n",
       "Age_3                     -0.5728      1.248     -0.459      0.647      -3.031       1.886\n",
       "Age_4                     -0.6844      0.996     -0.687      0.492      -2.645       1.276\n",
       "Age_5                     -0.0414      1.037     -0.040      0.968      -2.083       2.001\n",
       "Age_6                     -1.1926      1.103     -1.082      0.280      -3.364       0.979\n",
       "Age_7                     -1.2980      1.069     -1.214      0.226      -3.403       0.807\n",
       "Age_8                     -0.7276      0.856     -0.850      0.396      -2.413       0.958\n",
       "Age_9                     -1.3762      0.867     -1.588      0.113      -3.083       0.330\n",
       "Age_10                    -1.9545      0.872     -2.241      0.026      -3.672      -0.237\n",
       "Age_11                    -1.5770      0.871     -1.810      0.071      -3.293       0.138\n",
       "Age_12                    -2.8412      0.880     -3.228      0.001      -4.574      -1.108\n",
       "Age_13                    -3.3262      0.888     -3.745      0.000      -5.075      -1.577\n",
       "Age_14                    -2.4321      0.904     -2.692      0.008      -4.211      -0.653\n",
       "Age_15                    -3.0414      0.975     -3.119      0.002      -4.961      -1.121\n",
       "Age_16                    -3.3235      0.939     -3.539      0.000      -5.173      -1.474\n",
       "Age_17                    -2.5314      0.956     -2.647      0.009      -4.415      -0.648\n",
       "Age_18                    -3.4009      1.104     -3.079      0.002      -5.576      -1.226\n",
       "Age_19                    -3.6865      0.999     -3.689      0.000      -5.654      -1.719\n",
       "Age_20                    -3.0987      0.996     -3.112      0.002      -5.059      -1.138\n",
       "Age_21                    -1.1954      1.108     -1.079      0.282      -3.377       0.986\n",
       "Age_22                     1.2203      1.189      1.026      0.306      -1.121       3.561\n",
       "Age_23                     0.7478      1.099      0.680      0.497      -1.417       2.912\n",
       "Age_24                    -3.7525      1.892     -1.983      0.048      -7.478      -0.027\n",
       "Age_25                     1.0094      1.470      0.687      0.493      -1.885       3.904\n",
       "Age_26                    -1.4208      1.206     -1.178      0.240      -3.796       0.954\n",
       "Frequent_Publisher_1       0.3846      0.210      1.830      0.068      -0.029       0.798\n",
       "Frequent_Publisher_2       0.7564      0.179      4.220      0.000       0.403       1.109\n",
       "Genre_Action              -0.2294      0.268     -0.854      0.394      -0.758       0.299\n",
       "Genre_Action_Adventure     0.2424      0.682      0.355      0.723      -1.100       1.585\n",
       "Genre_Adventure            0.0580      0.327      0.177      0.860      -0.587       0.702\n",
       "Genre_Fighting            -0.3990      0.852     -0.469      0.640      -2.076       1.278\n",
       "Genre_MMO                  2.6245      0.855      3.069      0.002       0.940       4.309\n",
       "Genre_Misc                -0.0227      1.196     -0.019      0.985      -2.377       2.332\n",
       "Genre_Music               -0.0317      1.468     -0.022      0.983      -2.922       2.858\n",
       "Genre_Platform            -0.5021      0.477     -1.053      0.294      -1.441       0.437\n",
       "Genre_Puzzle              -1.3746      0.858     -1.602      0.110      -3.064       0.315\n",
       "Genre_Racing              -0.6374      0.348     -1.830      0.068      -1.323       0.048\n",
       "Genre_Role_Playing         0.2595      0.239      1.086      0.278      -0.211       0.730\n",
       "Genre_Simulation           1.5249      0.291      5.245      0.000       0.952       2.097\n",
       "Genre_Sports               0.2754      0.357      0.772      0.441      -0.427       0.978\n",
       "Genre_Strategy             0.6625      0.236      2.803      0.005       0.197       1.128\n",
       "==============================================================================\n",
       "Omnibus:                        6.198   Durbin-Watson:                   1.050\n",
       "Prob(Omnibus):                  0.045   Jarque-Bera (JB):                7.311\n",
       "Skew:                           0.195   Prob(JB):                       0.0259\n",
       "Kurtosis:                       3.653   Cond. No.                     4.25e+03\n",
       "==============================================================================\n",
       "\n",
       "Warnings:\n",
       "[1] Standard Errors assume that the covariance matrix of the errors is correctly specified.\n",
       "[2] The condition number is large, 4.25e+03. This might indicate that there are\n",
       "strong multicollinearity or other numerical problems.\n",
       "\"\"\""
      ]
     },
     "execution_count": 43,
     "metadata": {},
     "output_type": "execute_result"
    }
   ],
   "source": [
    "ind_v = '+'.join(list((features.columns)))\n",
    "dep_v = 'log_sales'\n",
    "f = dep_v+'~'+ind_v\n",
    "model = ols(f,data).fit()\n",
    "model.summary()"
   ]
  },
  {
   "cell_type": "markdown",
   "metadata": {},
   "source": [
    "* R-squared moving from 57.4% to  35.8% after removing Age from the equation. Put it back in and handle it with other feature selection methods"
   ]
  },
  {
   "cell_type": "markdown",
   "metadata": {},
   "source": [
    "---"
   ]
  },
  {
   "cell_type": "markdown",
   "metadata": {},
   "source": [
    "# Modeling"
   ]
  },
  {
   "cell_type": "code",
   "execution_count": 44,
   "metadata": {},
   "outputs": [],
   "source": [
    "x_train, x_test, y_train, y_test = train_test_split(features, target, random_state=22, test_size=0.2)"
   ]
  },
  {
   "cell_type": "markdown",
   "metadata": {},
   "source": [
    "Standard Scaler no change"
   ]
  },
  {
   "cell_type": "code",
   "execution_count": 45,
   "metadata": {},
   "outputs": [],
   "source": [
    "scaler = MinMaxScaler()\n",
    "scaler.fit_transform(x_train)\n",
    "x_train =pd.DataFrame(data=scaler.transform(x_train), columns=list(features.columns))\n",
    "x_test =pd.DataFrame(data=scaler.transform(x_test), columns=list(features.columns))"
   ]
  },
  {
   "cell_type": "markdown",
   "metadata": {},
   "source": [
    "<b> Simple Linear Reg"
   ]
  },
  {
   "cell_type": "code",
   "execution_count": 46,
   "metadata": {},
   "outputs": [],
   "source": [
    "slr = LinearRegression()\n",
    "slr.fit(x_train,y_train)\n",
    "y_train_pred, y_test_pred = np.exp(slr.predict(x_train)),np.exp(slr.predict(x_test))"
   ]
  },
  {
   "cell_type": "code",
   "execution_count": 47,
   "metadata": {},
   "outputs": [
    {
     "data": {
      "text/plain": [
       "(3.1416866883468586, 3.2846811140646954)"
      ]
     },
     "execution_count": 47,
     "metadata": {},
     "output_type": "execute_result"
    }
   ],
   "source": [
    "train_rmse = np.sqrt(metrics.mean_squared_error(y_train, y_train_pred))\n",
    "test_rmse = np.sqrt(metrics.mean_squared_error(y_test, y_test_pred))\n",
    "train_rmse,test_rmse"
   ]
  },
  {
   "cell_type": "markdown",
   "metadata": {},
   "source": [
    "# Final Model"
   ]
  },
  {
   "cell_type": "markdown",
   "metadata": {},
   "source": [
    "<b>Lasso"
   ]
  },
  {
   "cell_type": "code",
   "execution_count": 48,
   "metadata": {},
   "outputs": [],
   "source": [
    "from sklearn.linear_model import Lasso\n",
    "result_table = []"
   ]
  },
  {
   "cell_type": "code",
   "execution_count": 49,
   "metadata": {},
   "outputs": [
    {
     "name": "stdout",
     "output_type": "stream",
     "text": [
      "Training Error: 3.128189016446011\n",
      "Testing Error: 3.232237647801952\n"
     ]
    }
   ],
   "source": [
    "## training the model\n",
    "#alpha = [0.10,0.075,0.05,0.025,0.01,0.001] #alphas for tables\n",
    "alpha = 0.05\n",
    "lasso = Lasso(alpha=alpha, normalize=False)\n",
    "\n",
    "lasso.fit(x_train,y_train) #fit\n",
    "\n",
    "y_train_pred_lasso = np.exp(lasso.predict(x_train))  #predict training y data\n",
    "y_pred_lasso = np.exp(lasso.predict(x_test))         #predict test y data\n",
    "\n",
    "train_rmse_lasso = np.sqrt(metrics.mean_squared_error(y_train,y_train_pred_lasso))\n",
    "test_rmse_lasso = np.sqrt(metrics.mean_squared_error(y_test, y_pred_lasso)) #calculate rmse of testing error\n",
    "\n",
    "print('Training Error: '+ str(train_rmse_lasso))\n",
    "print('Testing Error: '+ str(test_rmse_lasso))\n",
    "\n",
    "lasso_coef01 = pd.DataFrame(data=lasso.coef_).T\n",
    "lasso_coef01.columns = x_train.columns\n",
    "lasso_coef01 = lasso_coef01.T.sort_values(by=0).T\n",
    "lasso_coef01.plot(kind='bar', title='Modal Coefficients', legend=False, figsize=(16,8))\n",
    "#     print()\n",
    "#     print('Original: ', test_rmse,\"vs. Lasso: \",test_rmse_lasso)\n",
    "\n",
    "coefficient = lasso_coef01.T\n",
    "\n",
    "result_list = [\n",
    "    alpha, #alpha\n",
    "    len(coefficient[coefficient[0] != 0]), #features selected\n",
    "    train_rmse_lasso,\n",
    "    test_rmse_lasso\n",
    "]\n",
    "\n",
    "result_table.append(result_list)"
   ]
  },
  {
   "cell_type": "code",
   "execution_count": 51,
   "metadata": {
    "scrolled": true
   },
   "outputs": [
    {
     "data": {
      "text/plain": [
       "<matplotlib.axes._subplots.AxesSubplot at 0x1a2767fe90>"
      ]
     },
     "execution_count": 51,
     "metadata": {},
     "output_type": "execute_result"
    },
    {
     "data": {
      "image/png": "[encoded data removed]",
      "text/plain": [
       "<Figure size 1152x576 with 1 Axes>"
      ]
     },
     "metadata": {},
     "output_type": "display_data"
    }
   ],
   "source": [
    "lasso_coef01.plot(kind='bar', title='Modal Coefficients', legend=False, figsize=(16,8))"
   ]
  },
  {
   "cell_type": "code",
   "execution_count": 61,
   "metadata": {},
   "outputs": [
    {
     "data": {
      "text/plain": [
       "Text(0.5, 1.0, 'Residual Plot')"
      ]
     },
     "execution_count": 61,
     "metadata": {},
     "output_type": "execute_result"
    },
    {
     "data": {
      "image/png": "[encoded data removed]",
      "text/plain": [
       "<Figure size 432x288 with 1 Axes>"
      ]
     },
     "metadata": {},
     "output_type": "display_data"
    }
   ],
   "source": [
    "sns.residplot( y_train, y_train_pred,lowess=True, color=\"b\")\n",
    "plt.title('Residual Plot')"
   ]
  },
  {
   "cell_type": "code",
   "execution_count": 50,
   "metadata": {
    "scrolled": false
   },
   "outputs": [
    {
     "data": {
      "text/html": [
       "<div>\n",
       "<style scoped>\n",
       "    .dataframe tbody tr th:only-of-type {\n",
       "        vertical-align: middle;\n",
       "    }\n",
       "\n",
       "    .dataframe tbody tr th {\n",
       "        vertical-align: top;\n",
       "    }\n",
       "\n",
       "    .dataframe thead th {\n",
       "        text-align: right;\n",
       "    }\n",
       "</style>\n",
       "<table border=\"1\" class=\"dataframe\">\n",
       "  <thead>\n",
       "    <tr style=\"text-align: right;\">\n",
       "      <th></th>\n",
       "      <th>0</th>\n",
       "    </tr>\n",
       "  </thead>\n",
       "  <tbody>\n",
       "    <tr>\n",
       "      <th>Age_13</th>\n",
       "      <td>-0.646847</td>\n",
       "    </tr>\n",
       "    <tr>\n",
       "      <th>Age_12</th>\n",
       "      <td>-0.137748</td>\n",
       "    </tr>\n",
       "    <tr>\n",
       "      <th>Genre_Action</th>\n",
       "      <td>-0.052290</td>\n",
       "    </tr>\n",
       "    <tr>\n",
       "      <th>Age_9</th>\n",
       "      <td>0.097800</td>\n",
       "    </tr>\n",
       "    <tr>\n",
       "      <th>Multiplatform_1</th>\n",
       "      <td>0.330200</td>\n",
       "    </tr>\n",
       "    <tr>\n",
       "      <th>Frequent_Publisher_2</th>\n",
       "      <td>0.364410</td>\n",
       "    </tr>\n",
       "    <tr>\n",
       "      <th>Genre_Simulation</th>\n",
       "      <td>0.417475</td>\n",
       "    </tr>\n",
       "    <tr>\n",
       "      <th>Age_8</th>\n",
       "      <td>0.748525</td>\n",
       "    </tr>\n",
       "    <tr>\n",
       "      <th>exp_score</th>\n",
       "      <td>1.157879</td>\n",
       "    </tr>\n",
       "  </tbody>\n",
       "</table>\n",
       "</div>"
      ],
      "text/plain": [
       "                             0\n",
       "Age_13               -0.646847\n",
       "Age_12               -0.137748\n",
       "Genre_Action         -0.052290\n",
       "Age_9                 0.097800\n",
       "Multiplatform_1       0.330200\n",
       "Frequent_Publisher_2  0.364410\n",
       "Genre_Simulation      0.417475\n",
       "Age_8                 0.748525\n",
       "exp_score             1.157879"
      ]
     },
     "execution_count": 50,
     "metadata": {},
     "output_type": "execute_result"
    }
   ],
   "source": [
    "coefficient = lasso_coef01.T\n",
    "coefficient[coefficient[0] != 0]"
   ]
  },
  {
   "cell_type": "markdown",
   "metadata": {},
   "source": [
    "# Final Paragraph"
   ]
  },
  {
   "cell_type": "markdown",
   "metadata": {},
   "source": [
    "This model has a high RMSE because of its inability to predict the higher totaling global sales. This could be attributed because the important of interaction terms between data that I did not engineer. A couple things to notice are Ages > 10 have a negative coefficient and Ages < 10 have a positive coefficient when referenced to age 0 which is 2019. This can imply that there is a bigger importance of time for analyzing the sales making a time series analysis a potentially better model. We can also note that a higher critic score leads to higher total sale, but the only thing we can do is try to do is make a game that people would like, which already goes without saying. Some things that we can what we can actually see and takeaway from this model is the potential increase of total sales by  seeking a frequent, making a multiplatform,publisher, or making a simulation game. This all makes sense intuitively as well!"
   ]
  },
  {
   "cell_type": "code",
   "execution_count": 270,
   "metadata": {},
   "outputs": [],
   "source": [
    "table2 = pd.DataFrame(result_table, columns = ['alpha','Number of Features','Training RMSE','Test RMSE'])"
   ]
  },
  {
   "cell_type": "code",
   "execution_count": 282,
   "metadata": {
    "scrolled": true
   },
   "outputs": [
    {
     "data": {
      "text/html": [
       "<div>\n",
       "<style scoped>\n",
       "    .dataframe tbody tr th:only-of-type {\n",
       "        vertical-align: middle;\n",
       "    }\n",
       "\n",
       "    .dataframe tbody tr th {\n",
       "        vertical-align: top;\n",
       "    }\n",
       "\n",
       "    .dataframe thead th {\n",
       "        text-align: right;\n",
       "    }\n",
       "</style>\n",
       "<table border=\"1\" class=\"dataframe\">\n",
       "  <thead>\n",
       "    <tr style=\"text-align: right;\">\n",
       "      <th></th>\n",
       "      <th>alpha</th>\n",
       "      <th>Number of Features</th>\n",
       "      <th>Training RMSE</th>\n",
       "      <th>Test RMSE</th>\n",
       "    </tr>\n",
       "  </thead>\n",
       "  <tbody>\n",
       "    <tr>\n",
       "      <th>0</th>\n",
       "      <td>0.150</td>\n",
       "      <td>1</td>\n",
       "      <td>3.132060</td>\n",
       "      <td>3.235864</td>\n",
       "    </tr>\n",
       "    <tr>\n",
       "      <th>1</th>\n",
       "      <td>0.100</td>\n",
       "      <td>3</td>\n",
       "      <td>3.130799</td>\n",
       "      <td>3.236111</td>\n",
       "    </tr>\n",
       "    <tr>\n",
       "      <th>2</th>\n",
       "      <td>0.075</td>\n",
       "      <td>6</td>\n",
       "      <td>3.129578</td>\n",
       "      <td>3.235153</td>\n",
       "    </tr>\n",
       "    <tr>\n",
       "      <th>3</th>\n",
       "      <td>0.050</td>\n",
       "      <td>9</td>\n",
       "      <td>3.128189</td>\n",
       "      <td>3.232238</td>\n",
       "    </tr>\n",
       "    <tr>\n",
       "      <th>4</th>\n",
       "      <td>0.040</td>\n",
       "      <td>9</td>\n",
       "      <td>3.128419</td>\n",
       "      <td>3.231295</td>\n",
       "    </tr>\n",
       "    <tr>\n",
       "      <th>5</th>\n",
       "      <td>0.030</td>\n",
       "      <td>13</td>\n",
       "      <td>3.128884</td>\n",
       "      <td>3.230848</td>\n",
       "    </tr>\n",
       "    <tr>\n",
       "      <th>6</th>\n",
       "      <td>0.025</td>\n",
       "      <td>16</td>\n",
       "      <td>3.128747</td>\n",
       "      <td>3.230394</td>\n",
       "    </tr>\n",
       "    <tr>\n",
       "      <th>7</th>\n",
       "      <td>0.010</td>\n",
       "      <td>30</td>\n",
       "      <td>3.126165</td>\n",
       "      <td>3.238358</td>\n",
       "    </tr>\n",
       "  </tbody>\n",
       "</table>\n",
       "</div>"
      ],
      "text/plain": [
       "   alpha  Number of Features  Training RMSE  Test RMSE\n",
       "0  0.150                   1       3.132060   3.235864\n",
       "1  0.100                   3       3.130799   3.236111\n",
       "2  0.075                   6       3.129578   3.235153\n",
       "3  0.050                   9       3.128189   3.232238\n",
       "4  0.040                   9       3.128419   3.231295\n",
       "5  0.030                  13       3.128884   3.230848\n",
       "6  0.025                  16       3.128747   3.230394\n",
       "7  0.010                  30       3.126165   3.238358"
      ]
     },
     "execution_count": 282,
     "metadata": {},
     "output_type": "execute_result"
    }
   ],
   "source": [
    "table2.reset_index().drop(columns = 'index')"
   ]
  },
  {
   "cell_type": "markdown",
   "metadata": {},
   "source": [
    "# Other Feature Selection/Model tests"
   ]
  },
  {
   "cell_type": "markdown",
   "metadata": {},
   "source": [
    "<b>KBest"
   ]
  },
  {
   "cell_type": "code",
   "execution_count": 52,
   "metadata": {},
   "outputs": [],
   "source": [
    "comp_table = []"
   ]
  },
  {
   "cell_type": "code",
   "execution_count": 53,
   "metadata": {},
   "outputs": [],
   "source": [
    "from sklearn.feature_selection import SelectKBest, f_regression,mutual_info_regression\n",
    "\n",
    "selector = SelectKBest(f_regression, k=2)\n",
    "\n",
    "selector.fit(x_train, y_train)\n",
    "\n",
    "selected_columns = x_train.columns[selector.get_support()]\n",
    "removed_columns = x_train.columns[~selector.get_support()]\n"
   ]
  },
  {
   "cell_type": "code",
   "execution_count": 54,
   "metadata": {},
   "outputs": [
    {
     "name": "stdout",
     "output_type": "stream",
     "text": [
      "Training Root Mean Squared Error: 3.134683410904458\n",
      "Testing Root Mean Squared Error: 3.2375608514472742\n",
      "\n",
      "Original:  3.2846811140646954 vs. Lasso:  3.232237647801952 vs. KBest:  3.2375608514472742\n"
     ]
    }
   ],
   "source": [
    "#instantiate a linear regression object\n",
    "lm_kbest = LinearRegression()\n",
    "\n",
    "#fit the linear regression to the data\n",
    "lm_kbest = lm_kbest.fit(x_train[selected_columns], y_train)\n",
    "\n",
    "y_train_kbest = np.exp(lm_kbest.predict(x_train[selected_columns]))\n",
    "\n",
    "\n",
    "trainK_rmse = np.sqrt(metrics.mean_squared_error(y_train, y_train_kbest))\n",
    "\n",
    "\n",
    "print('Training Root Mean Squared Error:' , trainK_rmse)\n",
    "\n",
    "y_kbest = np.exp(lm_kbest.predict(x_test[selected_columns]))\n",
    "\n",
    "testK_rmse = np.sqrt(metrics.mean_squared_error(y_test, y_kbest))\n",
    "\n",
    "print('Testing Root Mean Squared Error:' , testK_rmse)\n",
    "\n",
    "print()\n",
    "print('Original: ', test_rmse,\"vs. Lasso: \",test_rmse_lasso,\"vs. KBest: \", testK_rmse)"
   ]
  },
  {
   "cell_type": "code",
   "execution_count": 55,
   "metadata": {},
   "outputs": [],
   "source": [
    "comp_table.append([len(selected_columns), trainK_rmse, testK_rmse])"
   ]
  },
  {
   "cell_type": "markdown",
   "metadata": {},
   "source": [
    "<b>RFECV"
   ]
  },
  {
   "cell_type": "code",
   "execution_count": 56,
   "metadata": {},
   "outputs": [],
   "source": [
    "from sklearn import linear_model\n",
    "from sklearn.feature_selection import RFECV\n"
   ]
  },
  {
   "cell_type": "code",
   "execution_count": 57,
   "metadata": {},
   "outputs": [],
   "source": [
    "\n",
    "rfe = linear_model.LinearRegression()\n",
    "# Create recursive feature eliminator that scores features by mean squared errors\n",
    "selector = RFECV(estimator=rfe, step=1, cv=10, scoring='neg_mean_squared_error')\n",
    "# Fit recursive feature eliminator \n",
    "selector.fit(x_train, y_train)\n",
    "\n",
    "selected_rfe = x_train.columns[selector.support_]\n",
    "removed_rfe = x_train.columns[~selector.support_]"
   ]
  },
  {
   "cell_type": "code",
   "execution_count": 58,
   "metadata": {},
   "outputs": [
    {
     "name": "stdout",
     "output_type": "stream",
     "text": [
      "Training Root Mean Squared Error: 3.1385801472365302\n",
      "Testing Root Mean Squared Error: 3.3167726747610513\n",
      "Original:  3.2846811140646954 vs. Lasso:  3.232237647801952 vs. KBest:  3.2375608514472742 vs. RFE:  3.3167726747610513\n"
     ]
    }
   ],
   "source": [
    "#instantiate a linear regression object\n",
    "lm_rfe = LinearRegression()\n",
    "\n",
    "#fit the linear regression to the data\n",
    "lm_rfe = lm_rfe.fit(x_train[selected_rfe], y_train)\n",
    "\n",
    "y_rfe = np.exp(lm_rfe.predict(x_train[selected_rfe]))\n",
    "\n",
    "\n",
    "trainRFE_rmse = np.sqrt(metrics.mean_squared_error(y_train, y_rfe))\n",
    "\n",
    "\n",
    "print('Training Root Mean Squared Error:' , trainRFE_rmse)\n",
    "\n",
    "y_pred_rfe = np.exp(lm_rfe.predict(x_test[selected_rfe]))\n",
    "\n",
    "testRFE_rmse = np.sqrt(metrics.mean_squared_error(y_test, y_pred_rfe))\n",
    "\n",
    "print('Testing Root Mean Squared Error:' , testRFE_rmse)\n",
    "\n",
    "\n",
    "print('Original: ', test_rmse, \"vs. Lasso: \",test_rmse_lasso,\"vs. KBest: \", testK_rmse, \"vs. RFE: \", testRFE_rmse, )"
   ]
  },
  {
   "cell_type": "code",
   "execution_count": null,
   "metadata": {},
   "outputs": [],
   "source": []
  }
 ],
 "metadata": {
  "kernelspec": {
   "display_name": "Python 3",
   "language": "python",
   "name": "python3"
  },
  "language_info": {
   "codemirror_mode": {
    "name": "ipython",
    "version": 3
   },
   "file_extension": ".py",
   "mimetype": "text/x-python",
   "name": "python",
   "nbconvert_exporter": "python",
   "pygments_lexer": "ipython3",
   "version": "3.7.6"
  }
 },
 "nbformat": 4,
 "nbformat_minor": 4
}
