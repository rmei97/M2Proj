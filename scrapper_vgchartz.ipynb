{
 "cells": [
  {
   "cell_type": "markdown",
   "metadata": {},
   "source": [
    "# VGChartz scrapper"
   ]
  },
  {
   "cell_type": "code",
   "execution_count": 1,
   "metadata": {},
   "outputs": [],
   "source": [
    "import requests\n",
    "import pandas as pd \n",
    "import numpy as np\n",
    "import json\n",
    "from bs4 import BeautifulSoup\n",
    "import time\n",
    "import seaborn as sns"
   ]
  },
  {
   "cell_type": "code",
   "execution_count": 2,
   "metadata": {},
   "outputs": [],
   "source": [
    "def soup_request(response):\n",
    "    '''soup and parse responses from a url request'''\n",
    "    soup = BeautifulSoup(response.content)\n",
    "    list_tags = soup.find('div',id = 'generalBody').findAll('tr')\n",
    "    return list_tags"
   ]
  },
  {
   "cell_type": "code",
   "execution_count": 3,
   "metadata": {},
   "outputs": [],
   "source": [
    "def parse_tag(tag_list):\n",
    "    '''Given a list of table row's TAGS, Parse through soup to create dictionary '''\n",
    "    final = {\n",
    "        'Pos' : tag_list[0].text, #position in list,\n",
    "        'Game': tag_list[2].a.text, #game\n",
    "        'Console': tag_list[3].img['alt'] #console value hidden in img's alt value\n",
    "    }\n",
    "    #update the final dictionary with key column name, and parsed text value\n",
    "    final.update({ key:value.text for key,value in zip(columns[3:],tag_list[4:])}) \n",
    "    return final"
   ]
  },
  {
   "cell_type": "markdown",
   "metadata": {},
   "source": [
    "# Script"
   ]
  },
  {
   "cell_type": "code",
   "execution_count": 4,
   "metadata": {
    "collapsed": true
   },
   "outputs": [
    {
     "name": "stdout",
     "output_type": "stream",
     "text": [
      "Success on 1\n",
      "Finished page:1\n",
      "Success on 2\n",
      "Finished page:2\n",
      "Success on 3\n",
      "Finished page:3\n",
      "Success on 4\n",
      "Finished page:4\n",
      "Success on 5\n",
      "Finished page:5\n",
      "Success on 6\n",
      "Finished page:6\n"
     ]
    },
    {
     "ename": "KeyboardInterrupt",
     "evalue": "",
     "output_type": "error",
     "traceback": [
      "\u001b[0;31m---------------------------------------------------------------------------\u001b[0m",
      "\u001b[0;31mKeyboardInterrupt\u001b[0m                         Traceback (most recent call last)",
      "\u001b[0;32m<ipython-input-4-94637c06653e>\u001b[0m in \u001b[0;36m<module>\u001b[0;34m\u001b[0m\n\u001b[1;32m     10\u001b[0m \u001b[0;32mwhile\u001b[0m \u001b[0mpage\u001b[0m \u001b[0;34m<\u001b[0m \u001b[0;36m288\u001b[0m\u001b[0;34m:\u001b[0m \u001b[0;31m#288 is current max\u001b[0m\u001b[0;34m\u001b[0m\u001b[0;34m\u001b[0m\u001b[0m\n\u001b[1;32m     11\u001b[0m     \u001b[0mfull_url\u001b[0m \u001b[0;34m=\u001b[0m \u001b[0mhome\u001b[0m\u001b[0;34m+\u001b[0m\u001b[0;34m'page='\u001b[0m\u001b[0;34m+\u001b[0m\u001b[0mstr\u001b[0m\u001b[0;34m(\u001b[0m\u001b[0mpage\u001b[0m\u001b[0;34m)\u001b[0m\u001b[0;34m+\u001b[0m\u001b[0mparams\u001b[0m\u001b[0;34m\u001b[0m\u001b[0;34m\u001b[0m\u001b[0m\n\u001b[0;32m---> 12\u001b[0;31m     \u001b[0mresponse\u001b[0m \u001b[0;34m=\u001b[0m \u001b[0mrequests\u001b[0m\u001b[0;34m.\u001b[0m\u001b[0mget\u001b[0m\u001b[0;34m(\u001b[0m\u001b[0mfull_url\u001b[0m\u001b[0;34m,\u001b[0m\u001b[0mtime\u001b[0m\u001b[0;34m.\u001b[0m\u001b[0msleep\u001b[0m\u001b[0;34m(\u001b[0m\u001b[0;36m2\u001b[0m\u001b[0;34m)\u001b[0m\u001b[0;34m)\u001b[0m \u001b[0;31m#request with time parameter\u001b[0m\u001b[0;34m\u001b[0m\u001b[0;34m\u001b[0m\u001b[0m\n\u001b[0m\u001b[1;32m     13\u001b[0m \u001b[0;34m\u001b[0m\u001b[0m\n\u001b[1;32m     14\u001b[0m     \u001b[0;32mif\u001b[0m \u001b[0mresponse\u001b[0m\u001b[0;34m:\u001b[0m\u001b[0;34m\u001b[0m\u001b[0;34m\u001b[0m\u001b[0m\n",
      "\u001b[0;31mKeyboardInterrupt\u001b[0m: "
     ]
    }
   ],
   "source": [
    "#287 pages\n",
    "home = 'https://www.vgchartz.com/games/games.php?'\n",
    "page = 1\n",
    "params = \"&results=200&name=&console=&keyword=&publisher=&genre=&order=Sales&ownership=Both&boxart=No&banner=No&showdeleted=&region=All&goty_year=&developer=&direction=DESC&showtotalsales=1&shownasales=1&showpalsales=1&showjapansales=1&showothersales=1&showpublisher=1&showdeveloper=0&showreleasedate=1&showlastupdate=1&showvgchartzscore=0&showcriticscore=1&showuserscore=0&showshipped=1&alphasort=&showmultiplat=No\"\n",
    "columns = ['Pos','Game','Console','Publisher','Critic Score','Total Shipped','Total Sales','NA Sales','PAL Sales','Japan Sales','Other Sales','Release Date','Last Update']\n",
    "\n",
    "data = [] #result list of dictionarys\n",
    "\n",
    "while page < 288: #288 is current max\n",
    "    full_url = home+'page='+str(page)+params\n",
    "    response = requests.get(full_url,time.sleep(2)) #request with time parameter\n",
    "    \n",
    "    if response:\n",
    "        list_tags = soup_request(response)\n",
    "        endlist = len(list_tags) - 1\n",
    "        \n",
    "        for tag in list_tags[3:endlist]:\n",
    "            tags = tag.findAll('td')   #find all 'td' tags in tag\n",
    "            data.append(parse_tag(tags))\n",
    "            \n",
    "    print('Finished page:'+str(page),sep = ' ') #short statement to see state of loop\n",
    "    page += 1\n"
   ]
  },
  {
   "cell_type": "code",
   "execution_count": 8,
   "metadata": {},
   "outputs": [
    {
     "data": {
      "text/html": [
       "<div>\n",
       "<style scoped>\n",
       "    .dataframe tbody tr th:only-of-type {\n",
       "        vertical-align: middle;\n",
       "    }\n",
       "\n",
       "    .dataframe tbody tr th {\n",
       "        vertical-align: top;\n",
       "    }\n",
       "\n",
       "    .dataframe thead th {\n",
       "        text-align: right;\n",
       "    }\n",
       "</style>\n",
       "<table border=\"1\" class=\"dataframe\">\n",
       "  <thead>\n",
       "    <tr style=\"text-align: right;\">\n",
       "      <th></th>\n",
       "      <th>Pos</th>\n",
       "      <th>Game</th>\n",
       "      <th>Console</th>\n",
       "      <th>Publisher</th>\n",
       "      <th>Critic Score</th>\n",
       "      <th>Total Shipped</th>\n",
       "      <th>Total Sales</th>\n",
       "      <th>NA Sales</th>\n",
       "      <th>PAL Sales</th>\n",
       "      <th>Japan Sales</th>\n",
       "      <th>Other Sales</th>\n",
       "      <th>Release Date</th>\n",
       "      <th>Last Update</th>\n",
       "    </tr>\n",
       "  </thead>\n",
       "  <tbody>\n",
       "    <tr>\n",
       "      <th>0</th>\n",
       "      <td>1</td>\n",
       "      <td>Dream C Club</td>\n",
       "      <td>PS3</td>\n",
       "      <td>D3Publisher</td>\n",
       "      <td>N/A</td>\n",
       "      <td>N/A</td>\n",
       "      <td>0.02m</td>\n",
       "      <td>N/A</td>\n",
       "      <td>N/A</td>\n",
       "      <td>0.02m</td>\n",
       "      <td>N/A</td>\n",
       "      <td>15th Nov 12</td>\n",
       "      <td>N/A</td>\n",
       "    </tr>\n",
       "    <tr>\n",
       "      <th>1</th>\n",
       "      <td>2</td>\n",
       "      <td>Vitamin X: Detective B6</td>\n",
       "      <td>PSP</td>\n",
       "      <td>D3Publisher</td>\n",
       "      <td>N/A</td>\n",
       "      <td>N/A</td>\n",
       "      <td>0.02m</td>\n",
       "      <td>N/A</td>\n",
       "      <td>N/A</td>\n",
       "      <td>0.02m</td>\n",
       "      <td>N/A</td>\n",
       "      <td>09th Feb 12</td>\n",
       "      <td>N/A</td>\n",
       "    </tr>\n",
       "    <tr>\n",
       "      <th>2</th>\n",
       "      <td>3</td>\n",
       "      <td>Nobunaga no Yabou Online: Houou no Shou</td>\n",
       "      <td>PS3</td>\n",
       "      <td>Tecmo Koei</td>\n",
       "      <td>N/A</td>\n",
       "      <td>N/A</td>\n",
       "      <td>0.01m</td>\n",
       "      <td>N/A</td>\n",
       "      <td>N/A</td>\n",
       "      <td>0.01m</td>\n",
       "      <td>N/A</td>\n",
       "      <td>07th Mar 12</td>\n",
       "      <td>N/A</td>\n",
       "    </tr>\n",
       "    <tr>\n",
       "      <th>3</th>\n",
       "      <td>4</td>\n",
       "      <td>Ninja Gaiden Sigma 2</td>\n",
       "      <td>PSV</td>\n",
       "      <td>Tecmo Koei</td>\n",
       "      <td>N/A</td>\n",
       "      <td>N/A</td>\n",
       "      <td>0.01m</td>\n",
       "      <td>N/A</td>\n",
       "      <td>0.00m</td>\n",
       "      <td>0.01m</td>\n",
       "      <td>0.00m</td>\n",
       "      <td>26th Feb 13</td>\n",
       "      <td>N/A</td>\n",
       "    </tr>\n",
       "    <tr>\n",
       "      <th>4</th>\n",
       "      <td>5</td>\n",
       "      <td>Shinobi Koutsutsu</td>\n",
       "      <td>PSP</td>\n",
       "      <td>Idea Factory</td>\n",
       "      <td>N/A</td>\n",
       "      <td>N/A</td>\n",
       "      <td>0.01m</td>\n",
       "      <td>N/A</td>\n",
       "      <td>N/A</td>\n",
       "      <td>0.01m</td>\n",
       "      <td>N/A</td>\n",
       "      <td>30th Jan 14</td>\n",
       "      <td>N/A</td>\n",
       "    </tr>\n",
       "  </tbody>\n",
       "</table>\n",
       "</div>"
      ],
      "text/plain": [
       "  Pos                                         Game Console       Publisher  \\\n",
       "0   1                             Dream C Club         PS3   D3Publisher     \n",
       "1   2                  Vitamin X: Detective B6         PSP   D3Publisher     \n",
       "2   3  Nobunaga no Yabou Online: Houou no Shou         PS3    Tecmo Koei     \n",
       "3   4                     Ninja Gaiden Sigma 2         PSV    Tecmo Koei     \n",
       "4   5                        Shinobi Koutsutsu         PSP  Idea Factory     \n",
       "\n",
       "  Critic Score Total Shipped Total Sales NA Sales PAL Sales Japan Sales  \\\n",
       "0        N/A             N/A       0.02m      N/A       N/A       0.02m   \n",
       "1        N/A             N/A       0.02m      N/A       N/A       0.02m   \n",
       "2        N/A             N/A       0.01m      N/A       N/A       0.01m   \n",
       "3        N/A             N/A       0.01m      N/A     0.00m       0.01m   \n",
       "4        N/A             N/A       0.01m      N/A       N/A       0.01m   \n",
       "\n",
       "  Other Sales   Release Date Last Update  \n",
       "0         N/A  15th Nov 12           N/A  \n",
       "1         N/A  09th Feb 12           N/A  \n",
       "2         N/A  07th Mar 12           N/A  \n",
       "3       0.00m  26th Feb 13           N/A  \n",
       "4         N/A  30th Jan 14           N/A  "
      ]
     },
     "execution_count": 8,
     "metadata": {},
     "output_type": "execute_result"
    }
   ],
   "source": [
    "df = pd.DataFrame(data,columns = columns) #convert dta into dataframe\n",
    "df.head()"
   ]
  },
  {
   "cell_type": "markdown",
   "metadata": {},
   "source": [
    "# Save"
   ]
  },
  {
   "cell_type": "code",
   "execution_count": 517,
   "metadata": {},
   "outputs": [],
   "source": [
    "# df.to_csv('VGChartz.csv') #save dataframe to csv"
   ]
  }
 ],
 "metadata": {
  "kernelspec": {
   "display_name": "Python 3",
   "language": "python",
   "name": "python3"
  },
  "language_info": {
   "codemirror_mode": {
    "name": "ipython",
    "version": 3
   },
   "file_extension": ".py",
   "mimetype": "text/x-python",
   "name": "python",
   "nbconvert_exporter": "python",
   "pygments_lexer": "ipython3",
   "version": "3.7.6"
  }
 },
 "nbformat": 4,
 "nbformat_minor": 4
}
