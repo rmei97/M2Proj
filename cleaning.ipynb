{
 "cells": [
  {
   "cell_type": "code",
   "execution_count": 96,
   "metadata": {},
   "outputs": [],
   "source": [
    "import pandas as pd\n",
    "import seaborn as sns\n",
    "import numpy as np\n",
    "import datetime"
   ]
  },
  {
   "cell_type": "code",
   "execution_count": 28,
   "metadata": {},
   "outputs": [
    {
     "data": {
      "text/html": [
       "<div>\n",
       "<style scoped>\n",
       "    .dataframe tbody tr th:only-of-type {\n",
       "        vertical-align: middle;\n",
       "    }\n",
       "\n",
       "    .dataframe tbody tr th {\n",
       "        vertical-align: top;\n",
       "    }\n",
       "\n",
       "    .dataframe thead th {\n",
       "        text-align: right;\n",
       "    }\n",
       "</style>\n",
       "<table border=\"1\" class=\"dataframe\">\n",
       "  <thead>\n",
       "    <tr style=\"text-align: right;\">\n",
       "      <th></th>\n",
       "      <th>Unnamed: 0</th>\n",
       "      <th>Pos</th>\n",
       "      <th>Game</th>\n",
       "      <th>Console</th>\n",
       "      <th>Publisher</th>\n",
       "      <th>Critic Score</th>\n",
       "      <th>Total Shipped</th>\n",
       "      <th>Total Sales</th>\n",
       "      <th>NA Sales</th>\n",
       "      <th>PAL Sales</th>\n",
       "      <th>Japan Sales</th>\n",
       "      <th>Other Sales</th>\n",
       "      <th>Release Date</th>\n",
       "      <th>Last Update</th>\n",
       "    </tr>\n",
       "  </thead>\n",
       "  <tbody>\n",
       "    <tr>\n",
       "      <th>0</th>\n",
       "      <td>0</td>\n",
       "      <td>1</td>\n",
       "      <td>Pokemon</td>\n",
       "      <td>Series</td>\n",
       "      <td>Nintendo</td>\n",
       "      <td>N/A</td>\n",
       "      <td>362.06m</td>\n",
       "      <td>NaN</td>\n",
       "      <td>NaN</td>\n",
       "      <td>NaN</td>\n",
       "      <td>NaN</td>\n",
       "      <td>NaN</td>\n",
       "      <td>28th Sep 98</td>\n",
       "      <td>03rd Feb 20</td>\n",
       "    </tr>\n",
       "    <tr>\n",
       "      <th>1</th>\n",
       "      <td>1</td>\n",
       "      <td>2</td>\n",
       "      <td>Super Mario</td>\n",
       "      <td>Series</td>\n",
       "      <td>Nintendo</td>\n",
       "      <td>N/A</td>\n",
       "      <td>354.51m</td>\n",
       "      <td>NaN</td>\n",
       "      <td>NaN</td>\n",
       "      <td>NaN</td>\n",
       "      <td>NaN</td>\n",
       "      <td>NaN</td>\n",
       "      <td>20th Jul 83</td>\n",
       "      <td>20th Feb 20</td>\n",
       "    </tr>\n",
       "    <tr>\n",
       "      <th>2</th>\n",
       "      <td>2</td>\n",
       "      <td>3</td>\n",
       "      <td>Call of Duty</td>\n",
       "      <td>Series</td>\n",
       "      <td>Activision</td>\n",
       "      <td>N/A</td>\n",
       "      <td>300.00m</td>\n",
       "      <td>NaN</td>\n",
       "      <td>NaN</td>\n",
       "      <td>NaN</td>\n",
       "      <td>NaN</td>\n",
       "      <td>NaN</td>\n",
       "      <td>29th Oct 03</td>\n",
       "      <td>03rd Feb 20</td>\n",
       "    </tr>\n",
       "    <tr>\n",
       "      <th>3</th>\n",
       "      <td>3</td>\n",
       "      <td>4</td>\n",
       "      <td>Grand Theft Auto</td>\n",
       "      <td>Series</td>\n",
       "      <td>ASC Games</td>\n",
       "      <td>N/A</td>\n",
       "      <td>300.00m</td>\n",
       "      <td>NaN</td>\n",
       "      <td>NaN</td>\n",
       "      <td>NaN</td>\n",
       "      <td>NaN</td>\n",
       "      <td>NaN</td>\n",
       "      <td>27th Mar 98</td>\n",
       "      <td>03rd Feb 20</td>\n",
       "    </tr>\n",
       "    <tr>\n",
       "      <th>4</th>\n",
       "      <td>4</td>\n",
       "      <td>5</td>\n",
       "      <td>FIFA</td>\n",
       "      <td>Series</td>\n",
       "      <td>EA Sports</td>\n",
       "      <td>N/A</td>\n",
       "      <td>282.40m</td>\n",
       "      <td>NaN</td>\n",
       "      <td>NaN</td>\n",
       "      <td>NaN</td>\n",
       "      <td>NaN</td>\n",
       "      <td>NaN</td>\n",
       "      <td>15th Dec 93</td>\n",
       "      <td>03rd Feb 20</td>\n",
       "    </tr>\n",
       "  </tbody>\n",
       "</table>\n",
       "</div>"
      ],
      "text/plain": [
       "   Unnamed: 0  Pos                  Game Console     Publisher Critic Score  \\\n",
       "0           0    1           Pokemon      Series    Nintendo          N/A     \n",
       "1           1    2       Super Mario      Series    Nintendo          N/A     \n",
       "2           2    3      Call of Duty      Series  Activision          N/A     \n",
       "3           3    4  Grand Theft Auto      Series   ASC Games          N/A     \n",
       "4           4    5              FIFA      Series   EA Sports          N/A     \n",
       "\n",
       "  Total Shipped Total Sales NA Sales PAL Sales Japan Sales Other Sales  \\\n",
       "0       362.06m         NaN      NaN       NaN         NaN         NaN   \n",
       "1       354.51m         NaN      NaN       NaN         NaN         NaN   \n",
       "2       300.00m         NaN      NaN       NaN         NaN         NaN   \n",
       "3       300.00m         NaN      NaN       NaN         NaN         NaN   \n",
       "4       282.40m         NaN      NaN       NaN         NaN         NaN   \n",
       "\n",
       "    Release Date  Last Update  \n",
       "0  28th Sep 98    03rd Feb 20  \n",
       "1  20th Jul 83    20th Feb 20  \n",
       "2  29th Oct 03    03rd Feb 20  \n",
       "3  27th Mar 98    03rd Feb 20  \n",
       "4  15th Dec 93    03rd Feb 20  "
      ]
     },
     "execution_count": 28,
     "metadata": {},
     "output_type": "execute_result"
    }
   ],
   "source": [
    "data = pd.read_csv('VGChartz-raw.csv',index_col = 0)\n",
    "data.head()"
   ]
  },
  {
   "cell_type": "code",
   "execution_count": 29,
   "metadata": {
    "scrolled": true
   },
   "outputs": [],
   "source": [
    "# data.drop(data.columns[0],axis = 1, inplace = True)"
   ]
  },
  {
   "cell_type": "code",
   "execution_count": 30,
   "metadata": {},
   "outputs": [],
   "source": [
    "data = data.replace('NaN', np.nan)"
   ]
  },
  {
   "cell_type": "code",
   "execution_count": 5,
   "metadata": {},
   "outputs": [
    {
     "data": {
      "text/plain": [
       "<matplotlib.axes._subplots.AxesSubplot at 0x1a1ebe56d0>"
      ]
     },
     "execution_count": 5,
     "metadata": {},
     "output_type": "execute_result"
    },
    {
     "data": {
      "image/png": "[encoded data removed]",
      "text/plain": [
       "<Figure size 432x288 with 2 Axes>"
      ]
     },
     "metadata": {
      "needs_background": "light"
     },
     "output_type": "display_data"
    }
   ],
   "source": [
    "sns.heatmap(data.isna())"
   ]
  },
  {
   "cell_type": "code",
   "execution_count": 148,
   "metadata": {},
   "outputs": [],
   "source": [
    "df = data[data['Total Shipped'].notnull()]"
   ]
  },
  {
   "cell_type": "code",
   "execution_count": 149,
   "metadata": {},
   "outputs": [],
   "source": [
    "#get data\n",
    "df2 = data[data['Total Sales'].notnull()]"
   ]
  },
  {
   "cell_type": "code",
   "execution_count": 13,
   "metadata": {},
   "outputs": [],
   "source": [
    "# df2.to_csv('vg_total_sales.csv')"
   ]
  },
  {
   "cell_type": "code",
   "execution_count": 14,
   "metadata": {
    "collapsed": true
   },
   "outputs": [
    {
     "data": {
      "text/plain": [
       "<matplotlib.axes._subplots.AxesSubplot at 0x10a993310>"
      ]
     },
     "execution_count": 14,
     "metadata": {},
     "output_type": "execute_result"
    },
    {
     "data": {
      "image/png": "[encoded data removed]",
      "text/plain": [
       "<Figure size 432x288 with 2 Axes>"
      ]
     },
     "metadata": {
      "needs_background": "light"
     },
     "output_type": "display_data"
    }
   ],
   "source": [
    "sns.heatmap(df2.isna())"
   ]
  },
  {
   "cell_type": "code",
   "execution_count": 201,
   "metadata": {
    "scrolled": true
   },
   "outputs": [
    {
     "data": {
      "text/html": [
       "<div>\n",
       "<style scoped>\n",
       "    .dataframe tbody tr th:only-of-type {\n",
       "        vertical-align: middle;\n",
       "    }\n",
       "\n",
       "    .dataframe tbody tr th {\n",
       "        vertical-align: top;\n",
       "    }\n",
       "\n",
       "    .dataframe thead th {\n",
       "        text-align: right;\n",
       "    }\n",
       "</style>\n",
       "<table border=\"1\" class=\"dataframe\">\n",
       "  <thead>\n",
       "    <tr style=\"text-align: right;\">\n",
       "      <th></th>\n",
       "      <th>Pos</th>\n",
       "      <th>Game</th>\n",
       "      <th>Console</th>\n",
       "      <th>Publisher</th>\n",
       "      <th>Critic Score</th>\n",
       "      <th>Total Shipped</th>\n",
       "      <th>Total Sales</th>\n",
       "      <th>NA Sales</th>\n",
       "      <th>PAL Sales</th>\n",
       "      <th>Japan Sales</th>\n",
       "      <th>Other Sales</th>\n",
       "      <th>Release Date</th>\n",
       "      <th>Last Update</th>\n",
       "      <th>Release Year</th>\n",
       "    </tr>\n",
       "  </thead>\n",
       "  <tbody>\n",
       "    <tr>\n",
       "      <th>114</th>\n",
       "      <td>115</td>\n",
       "      <td>Grand Theft Auto V</td>\n",
       "      <td>PS3</td>\n",
       "      <td>Rockstar Games</td>\n",
       "      <td>N/A</td>\n",
       "      <td>NaN</td>\n",
       "      <td>20.32m</td>\n",
       "      <td>6.37m</td>\n",
       "      <td>9.85m</td>\n",
       "      <td>0.99m</td>\n",
       "      <td>3.12m</td>\n",
       "      <td>17th Sep 13</td>\n",
       "      <td>NaN</td>\n",
       "      <td>13</td>\n",
       "    </tr>\n",
       "    <tr>\n",
       "      <th>128</th>\n",
       "      <td>129</td>\n",
       "      <td>Grand Theft Auto V</td>\n",
       "      <td>PS4</td>\n",
       "      <td>Rockstar Games</td>\n",
       "      <td>N/A</td>\n",
       "      <td>NaN</td>\n",
       "      <td>19.39m</td>\n",
       "      <td>6.06m</td>\n",
       "      <td>9.71m</td>\n",
       "      <td>0.60m</td>\n",
       "      <td>3.02m</td>\n",
       "      <td>18th Nov 14</td>\n",
       "      <td>03rd Jan 18</td>\n",
       "      <td>14</td>\n",
       "    </tr>\n",
       "    <tr>\n",
       "      <th>156</th>\n",
       "      <td>157</td>\n",
       "      <td>Grand Theft Auto: Vice City</td>\n",
       "      <td>PS2</td>\n",
       "      <td>Rockstar Games</td>\n",
       "      <td>N/A</td>\n",
       "      <td>NaN</td>\n",
       "      <td>16.15m</td>\n",
       "      <td>8.41m</td>\n",
       "      <td>5.49m</td>\n",
       "      <td>0.47m</td>\n",
       "      <td>1.78m</td>\n",
       "      <td>28th Oct 02</td>\n",
       "      <td>NaN</td>\n",
       "      <td>02</td>\n",
       "    </tr>\n",
       "    <tr>\n",
       "      <th>159</th>\n",
       "      <td>160</td>\n",
       "      <td>Grand Theft Auto V</td>\n",
       "      <td>X360</td>\n",
       "      <td>Rockstar Games</td>\n",
       "      <td>N/A</td>\n",
       "      <td>NaN</td>\n",
       "      <td>15.86m</td>\n",
       "      <td>9.06m</td>\n",
       "      <td>5.33m</td>\n",
       "      <td>0.06m</td>\n",
       "      <td>1.42m</td>\n",
       "      <td>17th Sep 13</td>\n",
       "      <td>NaN</td>\n",
       "      <td>13</td>\n",
       "    </tr>\n",
       "    <tr>\n",
       "      <th>162</th>\n",
       "      <td>163</td>\n",
       "      <td>Call of Duty: Black Ops 3</td>\n",
       "      <td>PS4</td>\n",
       "      <td>Activision</td>\n",
       "      <td>N/A</td>\n",
       "      <td>NaN</td>\n",
       "      <td>15.09m</td>\n",
       "      <td>6.18m</td>\n",
       "      <td>6.05m</td>\n",
       "      <td>0.41m</td>\n",
       "      <td>2.44m</td>\n",
       "      <td>06th Nov 15</td>\n",
       "      <td>14th Jan 18</td>\n",
       "      <td>15</td>\n",
       "    </tr>\n",
       "    <tr>\n",
       "      <th>...</th>\n",
       "      <td>...</td>\n",
       "      <td>...</td>\n",
       "      <td>...</td>\n",
       "      <td>...</td>\n",
       "      <td>...</td>\n",
       "      <td>...</td>\n",
       "      <td>...</td>\n",
       "      <td>...</td>\n",
       "      <td>...</td>\n",
       "      <td>...</td>\n",
       "      <td>...</td>\n",
       "      <td>...</td>\n",
       "      <td>...</td>\n",
       "      <td>...</td>\n",
       "    </tr>\n",
       "    <tr>\n",
       "      <th>21680</th>\n",
       "      <td>21681</td>\n",
       "      <td>Mind, Body &amp; Soul: Blend It!</td>\n",
       "      <td>DS</td>\n",
       "      <td>505 Games</td>\n",
       "      <td>N/A</td>\n",
       "      <td>NaN</td>\n",
       "      <td>0.00m</td>\n",
       "      <td>NaN</td>\n",
       "      <td>0.00m</td>\n",
       "      <td>NaN</td>\n",
       "      <td>NaN</td>\n",
       "      <td>23rd Apr 10</td>\n",
       "      <td>NaN</td>\n",
       "      <td>10</td>\n",
       "    </tr>\n",
       "    <tr>\n",
       "      <th>21681</th>\n",
       "      <td>21682</td>\n",
       "      <td>Ride! Carnival Tycoon</td>\n",
       "      <td>PC</td>\n",
       "      <td>ValuSoft</td>\n",
       "      <td>N/A</td>\n",
       "      <td>NaN</td>\n",
       "      <td>0.00m</td>\n",
       "      <td>NaN</td>\n",
       "      <td>0.00m</td>\n",
       "      <td>NaN</td>\n",
       "      <td>NaN</td>\n",
       "      <td>01st Aug 07</td>\n",
       "      <td>NaN</td>\n",
       "      <td>07</td>\n",
       "    </tr>\n",
       "    <tr>\n",
       "      <th>21682</th>\n",
       "      <td>21683</td>\n",
       "      <td>Shinobido: Tales of the Ninja</td>\n",
       "      <td>PSP</td>\n",
       "      <td>Sony Computer Entertainment</td>\n",
       "      <td>N/A</td>\n",
       "      <td>NaN</td>\n",
       "      <td>0.00m</td>\n",
       "      <td>NaN</td>\n",
       "      <td>0.00m</td>\n",
       "      <td>NaN</td>\n",
       "      <td>NaN</td>\n",
       "      <td>09th Feb 07</td>\n",
       "      <td>NaN</td>\n",
       "      <td>07</td>\n",
       "    </tr>\n",
       "    <tr>\n",
       "      <th>21683</th>\n",
       "      <td>21684</td>\n",
       "      <td>Tactical Ops: Assault on Terror</td>\n",
       "      <td>PC</td>\n",
       "      <td>Atari</td>\n",
       "      <td>N/A</td>\n",
       "      <td>NaN</td>\n",
       "      <td>0.00m</td>\n",
       "      <td>NaN</td>\n",
       "      <td>0.00m</td>\n",
       "      <td>NaN</td>\n",
       "      <td>NaN</td>\n",
       "      <td>24th Apr 02</td>\n",
       "      <td>NaN</td>\n",
       "      <td>02</td>\n",
       "    </tr>\n",
       "    <tr>\n",
       "      <th>21684</th>\n",
       "      <td>21685</td>\n",
       "      <td>World in Conflict: Soviet Assault</td>\n",
       "      <td>PC</td>\n",
       "      <td>Ubisoft</td>\n",
       "      <td>N/A</td>\n",
       "      <td>NaN</td>\n",
       "      <td>0.00m</td>\n",
       "      <td>NaN</td>\n",
       "      <td>0.00m</td>\n",
       "      <td>NaN</td>\n",
       "      <td>NaN</td>\n",
       "      <td>10th Mar 09</td>\n",
       "      <td>NaN</td>\n",
       "      <td>09</td>\n",
       "    </tr>\n",
       "  </tbody>\n",
       "</table>\n",
       "<p>19322 rows × 14 columns</p>\n",
       "</div>"
      ],
      "text/plain": [
       "         Pos                                   Game Console  \\\n",
       "114      115                 Grand Theft Auto V         PS3   \n",
       "128      129                 Grand Theft Auto V         PS4   \n",
       "156      157        Grand Theft Auto: Vice City         PS2   \n",
       "159      160                 Grand Theft Auto V        X360   \n",
       "162      163          Call of Duty: Black Ops 3         PS4   \n",
       "...      ...                                    ...     ...   \n",
       "21680  21681       Mind, Body & Soul: Blend It!          DS   \n",
       "21681  21682              Ride! Carnival Tycoon          PC   \n",
       "21682  21683      Shinobido: Tales of the Ninja         PSP   \n",
       "21683  21684    Tactical Ops: Assault on Terror          PC   \n",
       "21684  21685  World in Conflict: Soviet Assault          PC   \n",
       "\n",
       "                           Publisher Critic Score Total Shipped Total Sales  \\\n",
       "114                 Rockstar Games          N/A             NaN      20.32m   \n",
       "128                 Rockstar Games          N/A             NaN      19.39m   \n",
       "156                 Rockstar Games          N/A             NaN      16.15m   \n",
       "159                 Rockstar Games          N/A             NaN      15.86m   \n",
       "162                     Activision          N/A             NaN      15.09m   \n",
       "...                              ...          ...           ...         ...   \n",
       "21680                    505 Games          N/A             NaN       0.00m   \n",
       "21681                     ValuSoft          N/A             NaN       0.00m   \n",
       "21682  Sony Computer Entertainment          N/A             NaN       0.00m   \n",
       "21683                        Atari          N/A             NaN       0.00m   \n",
       "21684                      Ubisoft          N/A             NaN       0.00m   \n",
       "\n",
       "      NA Sales PAL Sales Japan Sales Other Sales   Release Date  Last Update  \\\n",
       "114      6.37m     9.85m       0.99m       3.12m  17th Sep 13            NaN   \n",
       "128      6.06m     9.71m       0.60m       3.02m  18th Nov 14    03rd Jan 18   \n",
       "156      8.41m     5.49m       0.47m       1.78m  28th Oct 02            NaN   \n",
       "159      9.06m     5.33m       0.06m       1.42m  17th Sep 13            NaN   \n",
       "162      6.18m     6.05m       0.41m       2.44m  06th Nov 15    14th Jan 18   \n",
       "...        ...       ...         ...         ...            ...          ...   \n",
       "21680      NaN     0.00m         NaN         NaN  23rd Apr 10            NaN   \n",
       "21681      NaN     0.00m         NaN         NaN  01st Aug 07            NaN   \n",
       "21682      NaN     0.00m         NaN         NaN  09th Feb 07            NaN   \n",
       "21683      NaN     0.00m         NaN         NaN  24th Apr 02            NaN   \n",
       "21684      NaN     0.00m         NaN         NaN  10th Mar 09            NaN   \n",
       "\n",
       "      Release Year  \n",
       "114             13  \n",
       "128             14  \n",
       "156             02  \n",
       "159             13  \n",
       "162             15  \n",
       "...            ...  \n",
       "21680           10  \n",
       "21681           07  \n",
       "21682           07  \n",
       "21683           02  \n",
       "21684           09  \n",
       "\n",
       "[19322 rows x 14 columns]"
      ]
     },
     "execution_count": 201,
     "metadata": {},
     "output_type": "execute_result"
    }
   ],
   "source": [
    "df2"
   ]
  },
  {
   "cell_type": "code",
   "execution_count": 151,
   "metadata": {},
   "outputs": [
    {
     "name": "stderr",
     "output_type": "stream",
     "text": [
      "/opt/anaconda3/lib/python3.7/site-packages/ipykernel_launcher.py:1: SettingWithCopyWarning: \n",
      "A value is trying to be set on a copy of a slice from a DataFrame.\n",
      "Try using .loc[row_indexer,col_indexer] = value instead\n",
      "\n",
      "See the caveats in the documentation: https://pandas.pydata.org/pandas-docs/stable/user_guide/indexing.html#returning-a-view-versus-a-copy\n",
      "  \"\"\"Entry point for launching an IPython kernel.\n"
     ]
    }
   ],
   "source": [
    "df2['Release Year'] = df2['Release Date'].apply(lambda x: x.strip()[-2:])"
   ]
  },
  {
   "cell_type": "code",
   "execution_count": 160,
   "metadata": {},
   "outputs": [
    {
     "data": {
      "text/plain": [
       "True"
      ]
     },
     "execution_count": 160,
     "metadata": {},
     "output_type": "execute_result"
    }
   ],
   "source": []
  },
  {
   "cell_type": "code",
   "execution_count": 173,
   "metadata": {},
   "outputs": [
    {
     "data": {
      "text/plain": [
       "array(['13', '14', '02', '15', '11', '10', '18', '12', '09', '17', '01',\n",
       "       '08', '16', '07', '05', '97', '03', '98', '04', '99', '96', '06',\n",
       "       '00', '82', '81', '89', '94', '95', '93', '90', '78', '88', '/A',\n",
       "       '83', '86', '92', '77', '87', '91', '85', '19', '20', '84', '80',\n",
       "       '70', '79'], dtype=object)"
      ]
     },
     "execution_count": 173,
     "metadata": {},
     "output_type": "execute_result"
    }
   ],
   "source": [
    "df2['Release Year'].unique()"
   ]
  },
  {
   "cell_type": "code",
   "execution_count": 180,
   "metadata": {},
   "outputs": [],
   "source": [
    "df2[((df2['Release Year'] < '80') & (df2['Release Year'] > '08'))].drop(columns = ['Pos','Critic Score']).to_csv('vg_sales_08_18.csv')"
   ]
  },
  {
   "cell_type": "code",
   "execution_count": 197,
   "metadata": {},
   "outputs": [],
   "source": [
    "fiveyear = pd.read_csv('vg_saleS_08_18.csv')"
   ]
  },
  {
   "cell_type": "code",
   "execution_count": null,
   "metadata": {},
   "outputs": [],
   "source": []
  }
 ],
 "metadata": {
  "kernelspec": {
   "display_name": "Python 3",
   "language": "python",
   "name": "python3"
  },
  "language_info": {
   "codemirror_mode": {
    "name": "ipython",
    "version": 3
   },
   "file_extension": ".py",
   "mimetype": "text/x-python",
   "name": "python",
   "nbconvert_exporter": "python",
   "pygments_lexer": "ipython3",
   "version": "3.7.6"
  }
 },
 "nbformat": 4,
 "nbformat_minor": 4
}
